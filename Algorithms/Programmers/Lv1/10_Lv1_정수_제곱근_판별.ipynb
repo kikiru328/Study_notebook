{
  "nbformat": 4,
  "nbformat_minor": 0,
  "metadata": {
    "colab": {
      "name": "10. Lv1.정수 제곱근 판별.ipynb",
      "provenance": [],
      "collapsed_sections": [],
      "authorship_tag": "ABX9TyPPryvtJrn6wI1UbNNZKMu6",
      "include_colab_link": true
    },
    "kernelspec": {
      "name": "python3",
      "display_name": "Python 3"
    },
    "language_info": {
      "name": "python"
    }
  },
  "cells": [
    {
      "cell_type": "markdown",
      "metadata": {
        "id": "view-in-github",
        "colab_type": "text"
      },
      "source": [
        "<a href=\"https://colab.research.google.com/github/kikiru328/Study_Programmers/blob/main/Lv1/10_Lv1_%EC%A0%95%EC%88%98_%EC%A0%9C%EA%B3%B1%EA%B7%BC_%ED%8C%90%EB%B3%84.ipynb\" target=\"_parent\"><img src=\"https://colab.research.google.com/assets/colab-badge.svg\" alt=\"Open In Colab\"/></a>"
      ]
    },
    {
      "cell_type": "markdown",
      "source": [
        "문제 설명"
      ],
      "metadata": {
        "id": "tSZOektqUdSO"
      }
    },
    {
      "cell_type": "markdown",
      "source": [
        "임의의 양의 정수 n에 대해, n이 어떤 양의 정수 x의 제곱인지 아닌지 판단하려 합니다.\n",
        "n이 양의 정수 x의 제곱이라면 x+1의 제곱을 리턴하고, n이 양의 정수 x의 제곱이 아니라면 -1을 리턴하는 함수를 완성하세요.\n",
        "\n",
        "\n",
        "- 제한조건\n",
        "    - n은 1이상, 50000000000000 이하인 양의 정수입니다.\n",
        "\n",
        "- 예시\n",
        "\n",
        "```\n",
        "n\t  return\n",
        "121\t144\n",
        "3\t  -1\n",
        "```\n",
        "\n",
        "입출력 예#1\n",
        "121은 양의 정수 11의 제곱이므로, (11+1)를 제곱한 144를 리턴합니다.\n",
        "\n",
        "입출력 예#2\n",
        "3은 양의 정수의 제곱이 아니므로, -1을 리턴합니다."
      ],
      "metadata": {
        "id": "s2GDTss_0lB-"
      }
    },
    {
      "cell_type": "markdown",
      "source": [
        "Solution"
      ],
      "metadata": {
        "id": "gb-sQcK53AV4"
      }
    },
    {
      "cell_type": "code",
      "source": [
        "def solution(n):\n",
        "    a = n ** 0.5\n",
        "    if int(a) == a :\n",
        "        return (a+1)**2\n",
        "    else:\n",
        "        return -1"
      ],
      "metadata": {
        "id": "tjhnsxpw7wOm"
      },
      "execution_count": null,
      "outputs": []
    },
    {
      "cell_type": "markdown",
      "source": [
        "Solve"
      ],
      "metadata": {
        "id": "7oQ2qHd17zi8"
      }
    },
    {
      "cell_type": "markdown",
      "source": [
        "1. 제곱 표시 **"
      ],
      "metadata": {
        "id": "YxetpWKC7186"
      }
    },
    {
      "cell_type": "code",
      "source": [
        ""
      ],
      "metadata": {
        "id": "BYz8HrxFEiDy"
      },
      "execution_count": null,
      "outputs": []
    }
  ]
}