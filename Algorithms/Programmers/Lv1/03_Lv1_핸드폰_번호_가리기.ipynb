{
  "nbformat": 4,
  "nbformat_minor": 0,
  "metadata": {
    "colab": {
      "name": "03. Lv1. 핸드폰 번호 가리기.ipynb",
      "provenance": [],
      "collapsed_sections": [],
      "authorship_tag": "ABX9TyOSl4uNpcOtJXrut5HwMaVT",
      "include_colab_link": true
    },
    "kernelspec": {
      "name": "python3",
      "display_name": "Python 3"
    },
    "language_info": {
      "name": "python"
    }
  },
  "cells": [
    {
      "cell_type": "markdown",
      "metadata": {
        "id": "view-in-github",
        "colab_type": "text"
      },
      "source": [
        "<a href=\"https://colab.research.google.com/github/kikiru328/Programmers/blob/main/03_Lv1_%ED%95%B8%EB%93%9C%ED%8F%B0_%EB%B2%88%ED%98%B8_%EA%B0%80%EB%A6%AC%EA%B8%B0.ipynb\" target=\"_parent\"><img src=\"https://colab.research.google.com/assets/colab-badge.svg\" alt=\"Open In Colab\"/></a>"
      ]
    },
    {
      "cell_type": "markdown",
      "source": [
        "문제 설명"
      ],
      "metadata": {
        "id": "tSZOektqUdSO"
      }
    },
    {
      "cell_type": "markdown",
      "source": [
        "프로그래머스 모바일은 개인정보 보호를 위해 고지서를 보낼 때 고객들의 전화번호의 일부를 가립니다.\n",
        "전화번호가 문자열 phone_number로 주어졌을 때, 전화번호의 뒷 4자리를 제외한 나머지 숫자를 전부 *으로 가린 문자열을 리턴하는 함수, solution을 완성해주세요.\n",
        "\n",
        "- 제한조건\n",
        "    - s는 길이 4 이상, 20이하인 문자열입니다.\n",
        "\n",
        "- 예시\n",
        "\n",
        "```\n",
        "phone_number\treturn\n",
        "\"01033334444\"\t\"*******4444\"\n",
        "\"027778888\"\t    \"*****8888\"\n",
        "```"
      ],
      "metadata": {
        "id": "s2GDTss_0lB-"
      }
    },
    {
      "cell_type": "markdown",
      "source": [
        "Solution"
      ],
      "metadata": {
        "id": "gb-sQcK53AV4"
      }
    },
    {
      "cell_type": "code",
      "source": [
        "def solution(phone_number):\n",
        "    answer = '*'*(len(phone_number)-4) + phone_number[-4:]\n",
        "    return answer"
      ],
      "metadata": {
        "colab": {
          "base_uri": "https://localhost:8080/"
        },
        "id": "tjhnsxpw7wOm",
        "outputId": "7a286e06-5e6b-42e3-deab-d890f3146524"
      },
      "execution_count": null,
      "outputs": [
        {
          "output_type": "execute_result",
          "data": {
            "text/plain": [
              "[[4], [6]]"
            ]
          },
          "metadata": {},
          "execution_count": 2
        }
      ]
    },
    {
      "cell_type": "markdown",
      "source": [
        "Solve"
      ],
      "metadata": {
        "id": "7oQ2qHd17zi8"
      }
    },
    {
      "cell_type": "markdown",
      "source": [
        "1. 리스트 원소 검색 및 변화"
      ],
      "metadata": {
        "id": "YxetpWKC7186"
      }
    },
    {
      "cell_type": "code",
      "source": [
        ""
      ],
      "metadata": {
        "id": "QsutjlxjFQjO"
      },
      "execution_count": null,
      "outputs": []
    }
  ]
}
