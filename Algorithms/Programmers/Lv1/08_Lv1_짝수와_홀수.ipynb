{
  "nbformat": 4,
  "nbformat_minor": 0,
  "metadata": {
    "colab": {
      "name": "08. Lv1.짝수와 홀수.ipynb",
      "provenance": [],
      "collapsed_sections": [],
      "authorship_tag": "ABX9TyOfhSkKepHOlPpXVPtU2GTP",
      "include_colab_link": true
    },
    "kernelspec": {
      "name": "python3",
      "display_name": "Python 3"
    },
    "language_info": {
      "name": "python"
    }
  },
  "cells": [
    {
      "cell_type": "markdown",
      "metadata": {
        "id": "view-in-github",
        "colab_type": "text"
      },
      "source": [
        "<a href=\"https://colab.research.google.com/github/kikiru328/Study_Programmers/blob/main/Lv1/08_Lv1_%EC%A7%9D%EC%88%98%EC%99%80_%ED%99%80%EC%88%98.ipynb\" target=\"_parent\"><img src=\"https://colab.research.google.com/assets/colab-badge.svg\" alt=\"Open In Colab\"/></a>"
      ]
    },
    {
      "cell_type": "markdown",
      "source": [
        "문제 설명"
      ],
      "metadata": {
        "id": "tSZOektqUdSO"
      }
    },
    {
      "cell_type": "markdown",
      "source": [
        "정수 num이 짝수일 경우 \"Even\"을 반환하고 홀수인 경우 \"Odd\"를 반환하는 함수, solution을 완성해주세요.\n",
        "\n",
        "\n",
        "- 제한조건\n",
        "    - num은 int 범위의 정수입니다.\n",
        "    - 0은 짝수입니다.\n",
        "\n",
        "- 예시\n",
        "\n",
        "```\n",
        "num\treturn\n",
        "3\t  \"Odd\"\n",
        "4\t  \"Even\"\n",
        "```"
      ],
      "metadata": {
        "id": "s2GDTss_0lB-"
      }
    },
    {
      "cell_type": "markdown",
      "source": [
        "Solution"
      ],
      "metadata": {
        "id": "gb-sQcK53AV4"
      }
    },
    {
      "cell_type": "code",
      "source": [
        "def solution(num):\n",
        "    if num % 2 == 0 :\n",
        "        answer = \"Even\"\n",
        "    else:\n",
        "        answer = 'Odd'\n",
        "    return answer"
      ],
      "metadata": {
        "id": "tjhnsxpw7wOm"
      },
      "execution_count": null,
      "outputs": []
    },
    {
      "cell_type": "markdown",
      "source": [
        "Solve"
      ],
      "metadata": {
        "id": "7oQ2qHd17zi8"
      }
    },
    {
      "cell_type": "markdown",
      "source": [
        "1. 나머지 --> % 몫 -- > //\n",
        "2. if 문 적용"
      ],
      "metadata": {
        "id": "YxetpWKC7186"
      }
    },
    {
      "cell_type": "code",
      "source": [
        ""
      ],
      "metadata": {
        "id": "QsutjlxjFQjO"
      },
      "execution_count": null,
      "outputs": []
    }
  ]
}