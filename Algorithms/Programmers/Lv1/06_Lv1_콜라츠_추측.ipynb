{
  "nbformat": 4,
  "nbformat_minor": 0,
  "metadata": {
    "colab": {
      "name": "06. Lv1. 콜라츠 추측.ipynb",
      "provenance": [],
      "collapsed_sections": [],
      "authorship_tag": "ABX9TyN8iPsu5gvMGeQO7gDv+Th/",
      "include_colab_link": true
    },
    "kernelspec": {
      "name": "python3",
      "display_name": "Python 3"
    },
    "language_info": {
      "name": "python"
    }
  },
  "cells": [
    {
      "cell_type": "markdown",
      "metadata": {
        "id": "view-in-github",
        "colab_type": "text"
      },
      "source": [
        "<a href=\"https://colab.research.google.com/github/kikiru328/Study_Programmers/blob/main/06_Lv1_%EC%BD%9C%EB%9D%BC%EC%B8%A0_%EC%B6%94%EC%B8%A1.ipynb\" target=\"_parent\"><img src=\"https://colab.research.google.com/assets/colab-badge.svg\" alt=\"Open In Colab\"/></a>"
      ]
    },
    {
      "cell_type": "markdown",
      "source": [
        "문제 설명"
      ],
      "metadata": {
        "id": "tSZOektqUdSO"
      }
    },
    {
      "cell_type": "markdown",
      "source": [
        "1937년 Collatz란 사람에 의해 제기된 이 추측은, 주어진 수가 1이 될때까지 다음 작업을 반복하면, 모든 수를 1로 만들 수 있다는 추측입니다. 작업은 다음과 같습니다.\n",
        "\n",
        "\n",
        "\n",
        "```\n",
        "1-1. 입력된 수가 짝수라면 2로 나눕니다. \n",
        "1-2. 입력된 수가 홀수라면 3을 곱하고 1을 더합니다.\n",
        "2. 결과로 나온 수에 같은 작업을 1이 될 때까지 반복합니다.\n",
        "```\n",
        "\n",
        "예를 들어, 입력된 수가 6이라면 6→3→10→5→16→8→4→2→1 이 되어 총 8번 만에 1이 됩니다. 위 작업을 몇 번이나 반복해야하는지 반환하는 함수, solution을 완성해 주세요. 단, 작업을 500번을 반복해도 1이 되지 않는다면 –1을 반환해 주세요.\n",
        "\n",
        "\n",
        "- 제한조건\n",
        "    - 입력된 수, num은 1 이상 8000000 미만인 정수입니다.\n",
        "\n",
        "- 예시\n",
        "\n",
        "```\n",
        "n\t     result\n",
        "6\t      8 \n",
        "16\t     4\n",
        "626331\t-1\n",
        "```\n",
        "\n",
        "입출력 예 #1\n",
        "문제의 설명과 같습니다.\n",
        "\n",
        "입출력 예 #2\n",
        "16 -> 8 -> 4 -> 2 -> 1 이되어 총 4번만에 1이 됩니다.\n",
        "\n",
        "입출력 예 #3\n",
        "626331은 500번을 시도해도 1이 되지 못하므로 -1을 리턴해야합니다."
      ],
      "metadata": {
        "id": "s2GDTss_0lB-"
      }
    },
    {
      "cell_type": "markdown",
      "source": [
        "Solution"
      ],
      "metadata": {
        "id": "gb-sQcK53AV4"
      }
    },
    {
      "cell_type": "code",
      "source": [
        "def solution(num):\n",
        "    i = 0\n",
        "    while(1):\n",
        "        if i >= 500 :\n",
        "            return  -1\n",
        "        \n",
        "        if num == 1 :\n",
        "            return i \n",
        "        \n",
        "        if  num % 2 == 0 :\n",
        "            num /=  2\n",
        "            i += 1\n",
        "        else:\n",
        "            num = (num * 3) + 1\n",
        "            i += 1"
      ],
      "metadata": {
        "id": "tjhnsxpw7wOm"
      },
      "execution_count": 1,
      "outputs": []
    },
    {
      "cell_type": "markdown",
      "source": [
        "Solve"
      ],
      "metadata": {
        "id": "7oQ2qHd17zi8"
      }
    },
    {
      "cell_type": "markdown",
      "source": [
        "1. while문 최종값이 1이 나올 때 까지 반복\n",
        "2. 이후 조건 적용"
      ],
      "metadata": {
        "id": "YxetpWKC7186"
      }
    },
    {
      "cell_type": "code",
      "source": [
        ""
      ],
      "metadata": {
        "id": "QsutjlxjFQjO"
      },
      "execution_count": null,
      "outputs": []
    }
  ]
}
