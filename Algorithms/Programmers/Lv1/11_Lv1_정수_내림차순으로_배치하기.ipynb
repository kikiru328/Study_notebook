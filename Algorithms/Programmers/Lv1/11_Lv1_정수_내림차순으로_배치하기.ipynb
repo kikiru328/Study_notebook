{
  "nbformat": 4,
  "nbformat_minor": 0,
  "metadata": {
    "colab": {
      "name": "11. Lv1.정수 내림차순으로 배치하기.ipynb",
      "provenance": [],
      "collapsed_sections": [],
      "authorship_tag": "ABX9TyMwR5oS0OUbbO/QgkHrg9Ac",
      "include_colab_link": true
    },
    "kernelspec": {
      "name": "python3",
      "display_name": "Python 3"
    },
    "language_info": {
      "name": "python"
    }
  },
  "cells": [
    {
      "cell_type": "markdown",
      "metadata": {
        "id": "view-in-github",
        "colab_type": "text"
      },
      "source": [
        "<a href=\"https://colab.research.google.com/github/kikiru328/Study_Programmers/blob/main/Lv1/11_Lv1_%EC%A0%95%EC%88%98_%EB%82%B4%EB%A6%BC%EC%B0%A8%EC%88%9C%EC%9C%BC%EB%A1%9C_%EB%B0%B0%EC%B9%98%ED%95%98%EA%B8%B0.ipynb\" target=\"_parent\"><img src=\"https://colab.research.google.com/assets/colab-badge.svg\" alt=\"Open In Colab\"/></a>"
      ]
    },
    {
      "cell_type": "markdown",
      "source": [
        "문제 설명"
      ],
      "metadata": {
        "id": "tSZOektqUdSO"
      }
    },
    {
      "cell_type": "markdown",
      "source": [
        "함수 solution은 정수 n을 매개변수로 입력받습니다. n의 각 자릿수를 큰것부터 작은 순으로 정렬한 새로운 정수를 리턴해주세요. 예를들어 n이 118372면 873211을 리턴하면 됩니다.\n",
        "\n",
        "\n",
        "- 제한조건\n",
        "    - n은 1이상 8000000000 이하인 자연수입니다.\n",
        "- 예시\n",
        "\n",
        "```\n",
        "n\t     return\n",
        "118372\t873211\n",
        "```\n"
      ],
      "metadata": {
        "id": "s2GDTss_0lB-"
      }
    },
    {
      "cell_type": "markdown",
      "source": [
        "Solution"
      ],
      "metadata": {
        "id": "gb-sQcK53AV4"
      }
    },
    {
      "cell_type": "code",
      "source": [
        "def solution(n):\n",
        "    a = list(str(n))\n",
        "    a.sort(reverse=True)\n",
        "    return int(''.join(a))"
      ],
      "metadata": {
        "id": "tjhnsxpw7wOm"
      },
      "execution_count": null,
      "outputs": []
    },
    {
      "cell_type": "markdown",
      "source": [
        "Solve"
      ],
      "metadata": {
        "id": "7oQ2qHd17zi8"
      }
    },
    {
      "cell_type": "markdown",
      "source": [
        "1. 행렬.sort(key)"
      ],
      "metadata": {
        "id": "YxetpWKC7186"
      }
    },
    {
      "cell_type": "code",
      "source": [
        ""
      ],
      "metadata": {
        "id": "BYz8HrxFEiDy"
      },
      "execution_count": null,
      "outputs": []
    }
  ]
}