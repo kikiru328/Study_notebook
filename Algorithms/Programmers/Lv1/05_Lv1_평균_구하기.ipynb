{
  "nbformat": 4,
  "nbformat_minor": 0,
  "metadata": {
    "colab": {
      "name": "05. Lv1. 평균 구하기.ipynb",
      "provenance": [],
      "collapsed_sections": [],
      "authorship_tag": "ABX9TyNQk8IH5ebqi/BKRFObpDeY",
      "include_colab_link": true
    },
    "kernelspec": {
      "name": "python3",
      "display_name": "Python 3"
    },
    "language_info": {
      "name": "python"
    }
  },
  "cells": [
    {
      "cell_type": "markdown",
      "metadata": {
        "id": "view-in-github",
        "colab_type": "text"
      },
      "source": [
        "<a href=\"https://colab.research.google.com/github/kikiru328/Study_Programmers/blob/main/05_Lv1_%ED%8F%89%EA%B7%A0_%EA%B5%AC%ED%95%98%EA%B8%B0.ipynb\" target=\"_parent\"><img src=\"https://colab.research.google.com/assets/colab-badge.svg\" alt=\"Open In Colab\"/></a>"
      ]
    },
    {
      "cell_type": "markdown",
      "source": [
        "문제 설명"
      ],
      "metadata": {
        "id": "tSZOektqUdSO"
      }
    },
    {
      "cell_type": "markdown",
      "source": [
        "정수를 담고 있는 배열 arr의 평균값을 return하는 함수, solution을 완성해보세요.\n",
        "\n",
        "- 제한조건\n",
        "    - arr은 길이 1 이상, 100 이하인 배열입니다.\n",
        "    - arr의 원소는 -10,000 이상 10,000 이하인 정수입니다.\n",
        "\n",
        "- 예시\n",
        "\n",
        "```\n",
        "arr          return\n",
        "[1,2,3,4]\t2.5\n",
        "[5,5]\t    5\n",
        "```\n"
      ],
      "metadata": {
        "id": "s2GDTss_0lB-"
      }
    },
    {
      "cell_type": "markdown",
      "source": [
        "Solution"
      ],
      "metadata": {
        "id": "gb-sQcK53AV4"
      }
    },
    {
      "cell_type": "code",
      "source": [
        "def solution(arr):\n",
        "    answer = sum(int(i) for i in arr) / len(arr)\n",
        "    return answer\n",
        "\n",
        "solution([5,5])"
      ],
      "metadata": {
        "colab": {
          "base_uri": "https://localhost:8080/"
        },
        "id": "tjhnsxpw7wOm",
        "outputId": "9086b10b-fb4e-41b7-84e7-070421b096a1"
      },
      "execution_count": 1,
      "outputs": [
        {
          "output_type": "execute_result",
          "data": {
            "text/plain": [
              "5.0"
            ]
          },
          "metadata": {},
          "execution_count": 1
        }
      ]
    },
    {
      "cell_type": "markdown",
      "source": [
        "Solve"
      ],
      "metadata": {
        "id": "7oQ2qHd17zi8"
      }
    },
    {
      "cell_type": "markdown",
      "source": [
        "1. 리스트 내의 원소를 숫자로 빼내고, 개수를 구함"
      ],
      "metadata": {
        "id": "YxetpWKC7186"
      }
    },
    {
      "cell_type": "code",
      "source": [
        ""
      ],
      "metadata": {
        "id": "QsutjlxjFQjO"
      },
      "execution_count": null,
      "outputs": []
    }
  ]
}
