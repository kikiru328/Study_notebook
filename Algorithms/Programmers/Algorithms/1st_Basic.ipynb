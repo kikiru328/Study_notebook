{
  "nbformat": 4,
  "nbformat_minor": 0,
  "metadata": {
    "colab": {
      "name": "1st_Basic.ipynb",
      "provenance": [],
      "collapsed_sections": [],
      "authorship_tag": "ABX9TyOZkcSf0BcE/C4pPBmPtl3E",
      "include_colab_link": true
    },
    "kernelspec": {
      "name": "python3",
      "display_name": "Python 3"
    },
    "language_info": {
      "name": "python"
    }
  },
  "cells": [
    {
      "cell_type": "markdown",
      "metadata": {
        "id": "view-in-github",
        "colab_type": "text"
      },
      "source": [
        "<a href=\"https://colab.research.google.com/github/kikiru328/All_about_Study/blob/main/Algorithms/1st_Basic.ipynb\" target=\"_parent\"><img src=\"https://colab.research.google.com/assets/colab-badge.svg\" alt=\"Open In Colab\"/></a>"
      ]
    },
    {
      "cell_type": "code",
      "execution_count": 1,
      "metadata": {
        "colab": {
          "base_uri": "https://localhost:8080/"
        },
        "id": "CsT3AagNGAOE",
        "outputId": "0681384b-9373-474f-912f-cfb9e5d53454"
      },
      "outputs": [
        {
          "output_type": "stream",
          "name": "stdout",
          "text": [
            "세 정수의 최댓값을 구합니다.\n",
            "정수 a의 값을 입력하세요.1\n",
            "정수 b의 값을 입력하세요.2\n",
            "정수 c의 값을 입력하세요.3\n",
            "최댓값은 3입니다.\n"
          ]
        }
      ],
      "source": [
        "print('세 정수의 최댓값을 구합니다.')\n",
        "a = int(input('정수 a의 값을 입력하세요.'))\n",
        "b = int(input('정수 b의 값을 입력하세요.'))\n",
        "c = int(input('정수 c의 값을 입력하세요.'))\n",
        "\n",
        "maximum = a \n",
        "if b > maximum : maximum = b\n",
        "if c > maximum : maximum = c\\\n",
        "\n",
        "print(f'최댓값은 {maximum}입니다.')"
      ]
    },
    {
      "cell_type": "code",
      "source": [
        "print('이름을 입력하세요. : ', end='')\n",
        "name = input()\n",
        "print(f'안녕하세요? {name} 님.')"
      ],
      "metadata": {
        "colab": {
          "base_uri": "https://localhost:8080/"
        },
        "id": "RxmiP3HMHJ1J",
        "outputId": "6af4911f-8a3a-44fd-d907-5a6e597e61a8"
      },
      "execution_count": 2,
      "outputs": [
        {
          "output_type": "stream",
          "name": "stdout",
          "text": [
            "이름을 입력하세요. : Daniel\n",
            "안녕하세요? Daniel 님.\n"
          ]
        }
      ]
    },
    {
      "cell_type": "code",
      "source": [
        "print(int('17'))\n",
        "print(int('0b110',2))\n",
        "print(int('0o75',8))\n",
        "print(int('13',10))\n",
        "print(int('0x3F',16))\n",
        "print(float('3.14'))"
      ],
      "metadata": {
        "colab": {
          "base_uri": "https://localhost:8080/"
        },
        "id": "d0w7DGqUHWQr",
        "outputId": "3e774ec0-eb1b-499a-a4a8-bf2b92c9037e"
      },
      "execution_count": 5,
      "outputs": [
        {
          "output_type": "stream",
          "name": "stdout",
          "text": [
            "17\n",
            "6\n",
            "61\n",
            "13\n",
            "63\n",
            "3.14\n"
          ]
        }
      ]
    },
    {
      "cell_type": "code",
      "source": [
        "# 알고리즘 : 어떠한 문제를 해결하기 위해 정해 놓은 일련의 절차"
      ],
      "metadata": {
        "id": "rdbWvMFPHkJz"
      },
      "execution_count": 6,
      "outputs": []
    },
    {
      "cell_type": "code",
      "source": [
        "print('1부터 n까지 정수의 합을 구합니다.')\n",
        "n = int(input('n값을 입력하세요.: '))\n",
        "\n",
        "\n",
        "sum = 0\n",
        "i = 1\n",
        "\n",
        "while i <= n:\n",
        "    sum += i\n",
        "    i += 1\n",
        "\n",
        "print(f'1부터 {n}까지 정수의 합은 {sum}입니다.')"
      ],
      "metadata": {
        "colab": {
          "base_uri": "https://localhost:8080/"
        },
        "id": "NRnPTGs5H3w8",
        "outputId": "f667cd14-6c51-4477-86f6-d4cdf2d9961c"
      },
      "execution_count": 8,
      "outputs": [
        {
          "output_type": "stream",
          "name": "stdout",
          "text": [
            "1부터 n까지 정수의 합을 구합니다.\n",
            "n값을 입력하세요.: 1\n",
            "1부터 1까지 정수의 합은 1입니다.\n"
          ]
        }
      ]
    },
    {
      "cell_type": "code",
      "source": [
        "print('1부터 n까지 정수의 합을 구합니다.')\n",
        "n = int(input('n값을 입력하세요.: '))\n",
        "\n",
        "sum = 0\n",
        "for i in range(1, n+1):\n",
        "    sum += i\n",
        "\n",
        "print(f'1부터 {n}까지의 정수의 합은 {sum}입니다.')"
      ],
      "metadata": {
        "colab": {
          "base_uri": "https://localhost:8080/"
        },
        "id": "yNHULF1-INSj",
        "outputId": "f6ce32ac-b830-435e-81d1-ffd9f57043a4"
      },
      "execution_count": 11,
      "outputs": [
        {
          "output_type": "stream",
          "name": "stdout",
          "text": [
            "1부터 n까지 정수의 합을 구합니다.\n",
            "n값을 입력하세요.: 1\n",
            "1부터 1까지의 정수의 합은 1입니다.\n"
          ]
        }
      ]
    },
    {
      "cell_type": "code",
      "source": [
        "# 가우스 덧셈으로도 1부터 n까지 정수의 합을 구할 수 있다.\n",
        "n = 10\n",
        "sum = n * (n+1) // 2\n",
        "print(sum)"
      ],
      "metadata": {
        "colab": {
          "base_uri": "https://localhost:8080/"
        },
        "id": "NZosUjb9I4ux",
        "outputId": "9b118720-d8bb-475a-b492-2f06f37a09b4"
      },
      "execution_count": 14,
      "outputs": [
        {
          "output_type": "stream",
          "name": "stdout",
          "text": [
            "55\n"
          ]
        }
      ]
    },
    {
      "cell_type": "code",
      "source": [
        ""
      ],
      "metadata": {
        "id": "CpPTArmeJMIU"
      },
      "execution_count": null,
      "outputs": []
    }
  ]
}