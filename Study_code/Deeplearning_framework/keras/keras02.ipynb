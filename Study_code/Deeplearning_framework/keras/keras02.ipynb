{
  "cells": [
    {
      "cell_type": "markdown",
      "metadata": {
        "id": "view-in-github",
        "colab_type": "text"
      },
      "source": [
        "<a href=\"https://colab.research.google.com/github/kikiru328/Study_notebook/blob/main/Study_code/Deeplearning_framework/keras/keras02.ipynb\" target=\"_parent\"><img src=\"https://colab.research.google.com/assets/colab-badge.svg\" alt=\"Open In Colab\"/></a>"
      ]
    },
    {
      "cell_type": "markdown",
      "metadata": {
        "id": "eTjjZ41Wxc0o"
      },
      "source": [
        "# MNIST"
      ]
    },
    {
      "cell_type": "code",
      "execution_count": null,
      "metadata": {
        "id": "Fu0dy9UAxc0r",
        "outputId": "2dd6d249-4115-45a1-eae1-0de49da7afe3"
      },
      "outputs": [
        {
          "name": "stdout",
          "output_type": "stream",
          "text": [
            "Downloading data from https://storage.googleapis.com/tensorflow/tf-keras-datasets/mnist.npz\n",
            "11493376/11490434 [==============================] - 1s 0us/step\n",
            "11501568/11490434 [==============================] - 1s 0us/step\n"
          ]
        }
      ],
      "source": [
        "from keras.datasets import mnist\n",
        "# mnist data load\n",
        "(train_images, train_labels), (test_images, test_labels) = mnist.load_data()"
      ]
    },
    {
      "cell_type": "code",
      "execution_count": null,
      "metadata": {
        "id": "SP2Zq_HExc0s",
        "outputId": "11ce605a-7735-4e13-d9a5-bfd9cec47021"
      },
      "outputs": [
        {
          "name": "stdout",
          "output_type": "stream",
          "text": [
            "(60000, 28, 28)\n",
            "60000\n"
          ]
        },
        {
          "data": {
            "text/plain": [
              "array([5, 0, 4, ..., 5, 6, 8], dtype=uint8)"
            ]
          },
          "execution_count": 5,
          "metadata": {},
          "output_type": "execute_result"
        }
      ],
      "source": [
        "# train_shape\n",
        "print(train_images.shape)\n",
        "print(len(train_labels))\n",
        "train_labels"
      ]
    },
    {
      "cell_type": "code",
      "execution_count": null,
      "metadata": {
        "id": "Ylz9MD-Txc0s",
        "outputId": "61c0bda8-c841-4414-c7a7-d638b6932d05"
      },
      "outputs": [
        {
          "name": "stdout",
          "output_type": "stream",
          "text": [
            "(10000, 28, 28)\n",
            "10000\n"
          ]
        },
        {
          "data": {
            "text/plain": [
              "array([7, 2, 1, ..., 4, 5, 6], dtype=uint8)"
            ]
          },
          "execution_count": 7,
          "metadata": {},
          "output_type": "execute_result"
        }
      ],
      "source": [
        "# test_shape\n",
        "print(test_images.shape)\n",
        "print(len(test_labels))\n",
        "test_labels"
      ]
    },
    {
      "cell_type": "code",
      "execution_count": null,
      "metadata": {
        "id": "QRB1Ne6gxc0t"
      },
      "outputs": [],
      "source": [
        "# model structure\n",
        "from keras import models\n",
        "from keras import layers\n",
        "\n",
        "network = models.Sequential()\n",
        "network.add(layers.Dense(512, activation = 'relu', input_shape = (28*28,)))\n",
        "network.add(layers.Dense(10, activation='softmax'))"
      ]
    },
    {
      "cell_type": "code",
      "execution_count": null,
      "metadata": {
        "id": "3wNM9fJgxc0t"
      },
      "outputs": [],
      "source": [
        "# model compile\n",
        "network.compile(optimizer = 'rmsprop',\n",
        "                loss='categorical_crossentropy',\n",
        "                metrics=['accuracy'])"
      ]
    },
    {
      "cell_type": "code",
      "execution_count": null,
      "metadata": {
        "id": "fRsOoxchxc0u",
        "outputId": "60fac6a3-361a-4265-818f-d113b33e467d"
      },
      "outputs": [
        {
          "name": "stdout",
          "output_type": "stream",
          "text": [
            "(60000, 28, 28)\n",
            "(60000, 784)\n",
            "(60000, 784)\n",
            "(10000, 28, 28)\n",
            "(10000, 784)\n",
            "(10000, 784)\n"
          ]
        }
      ],
      "source": [
        "# data loader\n",
        "print(train_images.shape)\n",
        "train_images_ = train_images.reshape( (60000, 28 * 28 ))\n",
        "print(train_images_.shape)\n",
        "train_images_ = train_images_.astype('float32') / 255\n",
        "print(train_images_.shape)\n",
        "\n",
        "print(test_images.shape)\n",
        "test_images_ = test_images.reshape( (10000, 28 * 28 ))\n",
        "print(test_images_.shape)\n",
        "test_images_ = test_images_.astype('float32') / 255\n",
        "print(test_images_.shape)"
      ]
    },
    {
      "cell_type": "code",
      "execution_count": null,
      "metadata": {
        "id": "d7nmNSMtxc0v"
      },
      "outputs": [],
      "source": [
        "# label loader\n",
        "from tensorflow.keras.utils import to_categorical\n",
        "train_labels = to_categorical(train_labels)\n",
        "test_labels = to_categorical(test_labels)"
      ]
    },
    {
      "cell_type": "code",
      "execution_count": null,
      "metadata": {
        "id": "CDpG2xQJxc0v",
        "outputId": "2beda135-9239-4009-e246-6dd02ff61665"
      },
      "outputs": [
        {
          "name": "stdout",
          "output_type": "stream",
          "text": [
            "Epoch 1/5\n",
            "469/469 [==============================] - 2s 5ms/step - loss: 0.2566 - accuracy: 0.9260\n",
            "Epoch 2/5\n",
            "469/469 [==============================] - 2s 5ms/step - loss: 0.1036 - accuracy: 0.9686\n",
            "Epoch 3/5\n",
            "469/469 [==============================] - 2s 5ms/step - loss: 0.0677 - accuracy: 0.9797\n",
            "Epoch 4/5\n",
            "469/469 [==============================] - 3s 5ms/step - loss: 0.0497 - accuracy: 0.9848\n",
            "Epoch 5/5\n",
            "469/469 [==============================] - 2s 5ms/step - loss: 0.0370 - accuracy: 0.9890\n"
          ]
        },
        {
          "data": {
            "text/plain": [
              "<keras.callbacks.History at 0x1a480c24bb0>"
            ]
          },
          "execution_count": 17,
          "metadata": {},
          "output_type": "execute_result"
        }
      ],
      "source": [
        "# fitting\n",
        "network.fit(\n",
        "    x = train_images_,\n",
        "    y = train_labels,\n",
        "    epochs = 5,\n",
        "    batch_size = 128\n",
        ")"
      ]
    },
    {
      "cell_type": "code",
      "execution_count": null,
      "metadata": {
        "id": "TG59ppqgxc0w",
        "outputId": "f3339ec4-20b0-46d9-d4df-00e491e6efc9"
      },
      "outputs": [
        {
          "name": "stdout",
          "output_type": "stream",
          "text": [
            "313/313 [==============================] - 0s 747us/step - loss: 0.0622 - accuracy: 0.9810\n",
            "test_acc > : 0.9810000061988831\n"
          ]
        }
      ],
      "source": [
        "# test evaluation\n",
        "test_loss, test_acc = network.evaluate(test_images_, test_labels)\n",
        "print('test_acc > :', test_acc)"
      ]
    },
    {
      "cell_type": "markdown",
      "metadata": {
        "id": "x3QhHk_Gxc0w"
      },
      "source": [
        "# 신경망을 위한 데이터 표현\n",
        "\n",
        "        Tensor == 데이터를 위한 컨테이너"
      ]
    },
    {
      "cell_type": "markdown",
      "metadata": {
        "id": "_Jueuq1qK58Z"
      },
      "source": [
        "### 스칼라 0D 텐서"
      ]
    },
    {
      "cell_type": "code",
      "execution_count": null,
      "metadata": {
        "id": "p18HRYYaxc0w",
        "outputId": "3876f4cf-3ada-49dd-b723-187acf86b1c5"
      },
      "outputs": [
        {
          "name": "stdout",
          "output_type": "stream",
          "text": [
            "12\n",
            "0\n"
          ]
        }
      ],
      "source": [
        "# 하나의 숫자만 담고 있는 tensor == scalar ( numpy > float32, float64 ) tensor의 축 개수는 rank \n",
        "\n",
        "import numpy as np\n",
        "x = np.array(12) # scalar tensor\n",
        "print(x)\n",
        "print(x.ndim) # number of dimensions\n"
      ]
    },
    {
      "cell_type": "markdown",
      "metadata": {
        "id": "tO2Gr9tKK58a"
      },
      "source": [
        "### 벡터 1D Tensor"
      ]
    },
    {
      "cell_type": "code",
      "execution_count": null,
      "metadata": {
        "id": "VjfsgoQ1xc0x",
        "outputId": "0bc3a06d-b95b-422b-9f26-c4f78d0ce665"
      },
      "outputs": [
        {
          "name": "stdout",
          "output_type": "stream",
          "text": [
            "[12  3  6 14  7]\n",
            "1\n"
          ]
        }
      ],
      "source": [
        "# 하나의 축을 가진 tensor\n",
        "\n",
        "x = np.array( [12, 3, 6, 14, 7]) # 5개 원소 == 5차원 벡터.\n",
        "print(x)\n",
        "print(x.ndim)\n",
        "\n",
        "# 5D 벡터는 하나의 축을 따라 5개의 차원을 가진 것. 5D tensor는 5개의 축을 가진 것."
      ]
    },
    {
      "cell_type": "markdown",
      "metadata": {
        "id": "zy8y2PDBK58b"
      },
      "source": [
        "### 행렬 metrix 2D Tensor"
      ]
    },
    {
      "cell_type": "code",
      "execution_count": null,
      "metadata": {
        "id": "E3g-94zkxc0x",
        "outputId": "41a437f0-fc44-4921-f981-43c3e622a63c"
      },
      "outputs": [
        {
          "name": "stdout",
          "output_type": "stream",
          "text": [
            "2\n"
          ]
        }
      ],
      "source": [
        "x = np.array(\n",
        "    [[5,78,2,34,0], # 행 > 1행 : [5,78,2,34,0]\n",
        "     [6,79,3,35,1],\n",
        "     [7,80,4,36,2]]\n",
        ")\n",
        "     # 열 > 1열 : [5,6,7]\n",
        "print(x.ndim)"
      ]
    },
    {
      "cell_type": "markdown",
      "metadata": {
        "id": "NV7Nkic2K58b"
      },
      "source": [
        "### 3D Tensor & 고차원 Tensor"
      ]
    },
    {
      "cell_type": "code",
      "execution_count": null,
      "metadata": {
        "id": "7DpoTNFWxc0y",
        "outputId": "6275c378-9680-41e0-943a-a00f00971f26"
      },
      "outputs": [
        {
          "name": "stdout",
          "output_type": "stream",
          "text": [
            "3\n"
          ]
        }
      ],
      "source": [
        "x = np.array(\n",
        "    [[[5,78,2,34,0],\n",
        "      [6,79,3,35,1],\n",
        "      [7,80,4,36,2]],\n",
        "     [[5,78,2,34,0],\n",
        "      [6,79,3,35,1],\n",
        "      [7,80,4,36,2]],\n",
        "     [[5,78,2,34,0],\n",
        "      [6,79,3,35,1],\n",
        "      [7,80,4,36,2]]]\n",
        ")\n",
        "\n",
        "print(x.ndim)\n",
        "\n",
        "# 3D tensor를 하나의 배열로 합치면 4D 텐서를 만드는 식으로 이어짐. 동영상 데이터를 다룰 경우에는 5D 텐서까지 가기도 함."
      ]
    },
    {
      "cell_type": "markdown",
      "metadata": {
        "id": "ULLwt-dNxc0y"
      },
      "source": [
        "        축의 개수 (rank)    : np.ndim 에서 확인 가능\n",
        "        크기 (shape)      : Tensor의 각 축을 따라 얼마나 많은 차원이 있는지를 나타내느 파이썬의 tuple\n",
        "                            위의 3D Tensor의 크기는 (3,3,5) , 2D Tensor의 크기는 (3,5), 1D 벡터의 크기는 (5,), Scalar의 크기는 ()\n",
        "        데이터 타입         : numpy에서는 dtype에 저장. ( float32, uint8, float64 )"
      ]
    },
    {
      "cell_type": "code",
      "execution_count": null,
      "metadata": {
        "id": "UtryZKEExc0y"
      },
      "outputs": [],
      "source": [
        "# MNIST dataset\n",
        "from keras.datasets import mnist\n",
        "(train_images, train_labels) , (test_images, test_labels) = mnist.load_data()"
      ]
    },
    {
      "cell_type": "code",
      "execution_count": null,
      "metadata": {
        "id": "DrMneu9Qxc0y",
        "outputId": "882ea8b2-ad03-4388-d370-d4648a55a1ee"
      },
      "outputs": [
        {
          "name": "stdout",
          "output_type": "stream",
          "text": [
            "3\n",
            "(60000, 28, 28)\n",
            "uint8\n"
          ]
        }
      ],
      "source": [
        "# 축 확인\n",
        "print(train_images.ndim)\n",
        "print(train_images.shape)\n",
        "print(train_images.dtype)\n",
        "\n",
        "# 8비트 정수형 3D 텐서\n",
        "# 28 x 28 크기의 정수 행렬 6만개가 있는 배열.\n",
        "# 각 행렬은 하나의 흑백 이미지. 행렬의 각 원소는 0~255 사이값을 가짐."
      ]
    },
    {
      "cell_type": "code",
      "execution_count": null,
      "metadata": {
        "id": "bc4JOUt8xc0z",
        "outputId": "6a998964-9266-4ec5-ca64-628488f497c2"
      },
      "outputs": [
        {
          "data": {
            "image/png": "[encoded data removed]",
            "text/plain": [
              "<Figure size 432x288 with 1 Axes>"
            ]
          },
          "metadata": {
            "needs_background": "light"
          },
          "output_type": "display_data"
        }
      ],
      "source": [
        "# 3D Tensor에서 5번째 샘플 확인\n",
        "digit = train_images[4]\n",
        "from matplotlib import pyplot as plt\n",
        "plt.imshow(digit, cmap=plt.cm.binary)\n",
        "plt.show()"
      ]
    },
    {
      "cell_type": "markdown",
      "metadata": {
        "id": "_i0Q4jC6K58d"
      },
      "source": [
        "### numpy로 Tensor 조정"
      ]
    },
    {
      "cell_type": "code",
      "execution_count": null,
      "metadata": {
        "id": "fQPKIH7kxc0z",
        "outputId": "f00ba621-ee07-43b1-dbb3-c9ffb5d4426a"
      },
      "outputs": [
        {
          "name": "stdout",
          "output_type": "stream",
          "text": [
            "(90, 28, 28)\n",
            "(90, 28, 28)\n",
            "(90, 28, 28)\n"
          ]
        }
      ],
      "source": [
        "my_slice = train_images[10:100] # 11번째 ~ 101번째까지\n",
        "print(my_slice.shape)\n",
        "\n",
        "my_slice = train_images[10:100, :, :]\n",
        "print(my_slice.shape)\n",
        "\n",
        "my_slice = train_images[10:100, 0:28, 0:28]\n",
        "print(my_slice.shape)"
      ]
    },
    {
      "cell_type": "code",
      "execution_count": null,
      "metadata": {
        "id": "_bVUfB3oxc0z",
        "outputId": "d2d47cec-9039-4def-8f82-49ab77ea1668"
      },
      "outputs": [
        {
          "name": "stdout",
          "output_type": "stream",
          "text": [
            "(60000, 14, 14)\n",
            "(60000, 14, 14)\n"
          ]
        }
      ],
      "source": [
        "# 오른쪽 하단 14x14 픽셀 선택시\n",
        "my_slice = train_images[:, 14:, 14:]\n",
        "print(my_slice.shape)\n",
        "\n",
        "# 음수 index\n",
        "my_slice = train_images[:, 7:-7, 7:-7]\n",
        "print(my_slice.shape)"
      ]
    },
    {
      "cell_type": "markdown",
      "metadata": {
        "id": "GJ_B28ocK58d"
      },
      "source": [
        "### 배치 데이터"
      ]
    },
    {
      "cell_type": "code",
      "execution_count": null,
      "metadata": {
        "id": "rUYBazesxc0z"
      },
      "outputs": [],
      "source": [
        "# 일반적으로 딥러닝에서 사용하는 모든 데이터 Tensor의 첫 번째 축 == 샘플 축\n",
        "# MNIST [0] == 숫자 이미지\n",
        "# 딥러닝 모델은 한 번에 전체 데이터셋을 처리하지 않는다. 대신 데이터를 batch로 나눔.\n",
        "\n",
        "batch_size = 128\n",
        "batch_1 = train_images[:128]\n",
        "batch_2 = train_images[128:256]\n",
        "# batch_n = train_images[128 * n : 128 * (n+1)]\n",
        "\n",
        "# 배치 데이터를 다룰 때는 첫 번째 축을 배치 축 또는 배치 차원이라고 부름."
      ]
    },
    {
      "cell_type": "markdown",
      "metadata": {
        "id": "1OdTAboZK58e"
      },
      "source": [
        "### Tensor 실제사례"
      ]
    },
    {
      "cell_type": "code",
      "execution_count": null,
      "metadata": {
        "id": "hpoCW_BAxc00"
      },
      "outputs": [],
      "source": [
        "# 벡터 데이터 > (samples, features) 크기의 2D\n",
        "# 시계열 데이터 또는 시퀀스 데이터 > (samples, timesteps, features) 크기의 3D 텐서\n",
        "# 이미지 > (samples, height, width, channels) 또는 (samples, channels, height, width) 크기의 4D 텐서\n",
        "# 동영상 > (samples, frames, height, width, channels) 또는 (samples, frames, channels, height, width) 크기의 5D 텐서"
      ]
    },
    {
      "cell_type": "markdown",
      "metadata": {
        "id": "As2fLBdRK58e"
      },
      "source": [
        "### 벡터 데이터"
      ]
    },
    {
      "cell_type": "code",
      "execution_count": null,
      "metadata": {
        "id": "9t2-_ucnxc00"
      },
      "outputs": [],
      "source": [
        "# 대부분의 경우 해당. 데이터셋에서는 하나의 데이터 포인트가 벡터로 인코딩 될 수 있으므로 배치 데이터는 2D 텐서로 인코딩.\n",
        "# 첫 번째 축은 샘플 축, 두 번째 축은 특성 축\n",
        "# 사람의 나이, 우편 번호, 소득으로 구성된 인구 통계 데이터. 각 사람은 3개의 값을 가진 벡터로 구성, 10만 명이 포함된 전체 데이터셋은 (100000,3) 크기의 텐서에 저장될 수 있다.\n",
        "# (공통 단어 2만 개로 만든 사전에서) 각 단어가 등장한 횟수로 표현된 텍스트 문서 데이터셋. 각 문서는 2만 개의 원소(사전에 있는 단어마다 하나의 원소에 대응합니다.) 를 가진 벡터로 인코딩 될 수 있습니다.\n",
        "# 500개의 문서로 이루어진 전체 데이터셋은 (500, 20000) 크기의 텐소로 저장."
      ]
    },
    {
      "cell_type": "markdown",
      "metadata": {
        "id": "QIG4aeXvK58e"
      },
      "source": [
        "### 시계열 데이터 또는 시퀀스 데이터"
      ]
    },
    {
      "cell_type": "code",
      "execution_count": null,
      "metadata": {
        "id": "NCmK5WBkxc00"
      },
      "outputs": [],
      "source": [
        "# 데이터에서 시간이 중요할 때는 시간 축을 포함하여 3D텐서로 저장됨.\n",
        "# 각 샘플은 벡터의 시퀀스로 인코딩되므로 배치 데이터는 3D 텐서로 인코딩치\n",
        "# 관례적으로 시간 축은 항상 두 번째 축( 인덱스 ==1 ). \n",
        "# 주식 가격 데이터 셋 >  1분 마다 현재 주식 가격, 지난 1분 동안에 최고 가격과 최소 가격을 저장. 1분마다 데이터는 3D 벡터로 인코딩되고 하루 동안의 거래는 (390,3) 크기의 2D 텐서로 인코딩됩니다. (하루 거래 390분)\n",
        "# 250일치의 데이터는 (250, 390, 3) 크기의 3D 텐서로 저장될 수 있음. 여기에서 1일치 데이터가 하나의 샘플\n",
        "# 트윗 데이터셋 >  각 트윗은 128개의 알파벳으로 구성된 280개의 문자 시퀀스. 여기에서는 각 문자가 128개의 크기인 이진 벡터로 인코딩 (해당 문자의 인덱스만 1, 나머지 0). 그러면 각 트윗은 (280,128) 크기의 2D \n",
        "# 텐서로 인코딩 될 수 있음. 100만 개의 트윗으로 구성된 데이터셋은 (1000000, 280,128) 크기의 텐서."
      ]
    },
    {
      "cell_type": "markdown",
      "metadata": {
        "id": "b2upLHnsxc00"
      },
      "source": [
        "## 이미지 데이터"
      ]
    },
    {
      "cell_type": "code",
      "execution_count": null,
      "metadata": {
        "id": "n2GyLm12xc01"
      },
      "outputs": [],
      "source": [
        "# 이미지는 전형적으로 높이, 너비, 컬러 채널의 3차원으로 이루어짐. MNIST 숫자처럼 흑백 이미지는 하나의 컬러 채널만을 가지고 있어 2D 텐서로 저장. 관례상 이미지 텐서는 3D로 저장.\n",
        "# 흑백 이미지의 경우 컬러 채널의 차원 크기는 1. 256x256 크기의 흑백 이미지에 대한 128개의 배치는 (128, 256,256, 1) 크기의 텐서에 저장될 수 있음.\n",
        "# 컬러 이미지에 대한 128개의 배치라면 (128, 256, 256, 3) 크기의 텐서에 저장.\n",
        "\n",
        "# 이미지 텐서의 크기를 지정하는 방식은 두 가지.\n",
        "\n",
        "# (Tensorflow) 채널 마지막 방식    //    (씨아노) 채널 우선 방식.\n",
        "# 구글의 tensorflow 머신 러닝 프레임워크는 (samples, height, width, color_depth)처럼 컬러 채널의 깊이를 끝에 놓는다.\n",
        "# 씨아노는 (samples, color_depth, height, width)처럼 컬러 채널의 깊이를 배치 축 바로 뒤에 놓음.\n",
        "# 씨아노 방식을 사용하면 앞선 예제 > (128, 1, 256, 256) 그리고 (128, 3, 256, 256)\n",
        "# 케라스는 두개 다 지원"
      ]
    },
    {
      "cell_type": "markdown",
      "metadata": {
        "id": "dJXtUbH1K58f"
      },
      "source": [
        "### 비디오 데이터"
      ]
    },
    {
      "cell_type": "code",
      "execution_count": null,
      "metadata": {
        "id": "_JJlZqbAxc01"
      },
      "outputs": [],
      "source": [
        "# 비디오 데이터는 현실에서 5D 텐서가 필요한 몇 안되는 데이터 중 하나. 하나의 비디오는 프레임의 연속, 각 프레임은 하나의 컬러 이미지.\n",
        "# 프레임이 (height, width, color_depth) 의 3D Tensor로 저장될 수 있기 때문에 프레인의 연속은 (frames, height, width, color_depth) 4D Tensor 로 저장\n",
        "# 여러 비디오의 배치는 (samples, frames, height, width, color_depth) 로 5D Tensor.\n",
        " \n",
        "# 예를 들어 60초짜리 144x256 유튜브 비디오 클립을 초당 4frame 으로 샘플링 하면 240 프레임.\n",
        "#  이런 비디오 클립을 4개 가진 배치는 (4, 240,144,256,3)"
      ]
    },
    {
      "cell_type": "markdown",
      "metadata": {
        "id": "eAcCaaDGK58f"
      },
      "source": [
        "# 신경망의 톱니바퀴 & 텐서연산"
      ]
    },
    {
      "cell_type": "code",
      "execution_count": null,
      "metadata": {
        "id": "E284pR0vxc01"
      },
      "outputs": [],
      "source": [
        "# Dense 층\n",
        "\"\"\"Keras.layers.Dense(512, activation='relu')\"\"\"\n",
        "\n",
        "# 2D 텐서를 입력으로 받고 입력 텐서의 새로운 표현인 또 다른 2D 텐서를 반환하는 함수 (w는 2D텐서, b는 벡터)\n",
        "\"\"\"output = relu(dot(w, input) +b)\"\"\"\n",
        "\n",
        "# 자세하게\n",
        "# 입력 텐서와 텐서 w 사이의 점곱(dot), 점곱의 결과인 2D 텐서와 벡터 b 사이의 덧셈(+), 마지막으로 relu 연산"
      ]
    },
    {
      "cell_type": "markdown",
      "metadata": {
        "id": "1nGfYPy8K58g"
      },
      "source": [
        "### 원소별 연산"
      ]
    },
    {
      "cell_type": "code",
      "execution_count": null,
      "metadata": {
        "id": "oQM7KC-wxc01"
      },
      "outputs": [],
      "source": [
        "# relu 함수와 덧셈은 원소별 연산.\n",
        "\n",
        "# 단순 원소별 연산\n",
        "def naive_relu(x):\n",
        "    assert len(x.shape) == 2 # x s는 2D 넘파이 배열\n",
        "    # assert : 가정설정문. assert 뒤의 조건이 True가 아니면 AssertError를 발생시킨다.\n",
        "    x = x.copy()\n",
        "    for i in range(x.shape[0]):\n",
        "        for j in range(x.shape[1]):\n",
        "            x[i,j] = max(x[i,j],0)\n",
        "    return x\n",
        "\n",
        "# 덧셈 - 동일한 2D 텐서만 지원\n",
        "def naive_add(x,y):\n",
        "    assert len(x.shape) == 2 # x,y 2D 넘파이 배열\n",
        "    assert x.shape == y.shape\n",
        "    \n",
        "    x = x.copy()\n",
        "    for i in range(x.shape[0]):\n",
        "        for j in range(x.shape[1]):\n",
        "            x[i,j] += y[i,j]\n",
        "    return x\n",
        "\n",
        "# 같은 원리로 원소별 곱셈, 뺄샘 등을 활용"
      ]
    },
    {
      "cell_type": "code",
      "execution_count": null,
      "metadata": {
        "id": "sMsrfORHxc01"
      },
      "outputs": [],
      "source": [
        "# numpy 원소별 연산\n",
        "# import numpy as np\n",
        "# z = x + y # 원소별 덧셈\n",
        "# z = np.maximum(z, 0.) # 월소별 Relu 함수"
      ]
    },
    {
      "cell_type": "markdown",
      "metadata": {
        "id": "SZJUyKvtK58g"
      },
      "source": [
        "### 브로드캐스팅"
      ]
    },
    {
      "cell_type": "code",
      "execution_count": null,
      "metadata": {
        "id": "zCsQIO6Oxc01"
      },
      "outputs": [],
      "source": [
        "# 모호하지 않고 실행 가능하다면 작은 텐서가 큰 텐서의 크기에 맞추어 브로드캐스팅이 됨.\n",
        "# 1) 큰 텐서의 ndim에 맞도록 작은 텐서에 축이 추가됨. ( 브로드캐스팅 축 )\n",
        "# 2) 작은 텐서가 새 축을 따라서 큰 텐서의 크기에 맞도록 반복됨."
      ]
    },
    {
      "cell_type": "code",
      "execution_count": null,
      "metadata": {
        "id": "cJrvD9kLxc02"
      },
      "outputs": [],
      "source": [
        "# x 의 크기는 (32, 10), y 의 크기는 (10,) 일 때,\n",
        "# y에 비어있는 첫 번째 축을 추가하여 (1, 10) 으로 만듬\n",
        "# 그 다음 y를 이 축에 32번 반복하면 tensor y 는 (32, 10) 이 됨.\n",
        "# 여기서 Y[i, :] == y for i in range(0, 32)가 됨.\n",
        "# 그러면 x, y 의 크기가 같으므로 더할 수 있게 된다."
      ]
    },
    {
      "cell_type": "code",
      "execution_count": null,
      "metadata": {
        "id": "RtJG13wYxc02"
      },
      "outputs": [],
      "source": [
        "# 구현 입장에서 새로운 텐서가 만들어지면 매우 비효율적이여서 어떤 2D 텐서도 만들어지지 않는다.\n",
        "# 반복된 연산은 완전히 가상적.\n",
        "# 새로운 축을 따라 벡터가 32번 반복된다는 것으로 생각하면 됨.\n",
        "\n",
        "# 단순 구현\n",
        "def navie_add_matrix_and_vector(x,y):\n",
        "    assert len(x.shape) == 2  # 2D 넘파이 배열\n",
        "    assert len(y.shape) == 1  # y는 넘파이 배열\n",
        "    assert x.shape[1] == y.shape[0]\n",
        "    \n",
        "    x = x.copy()\n",
        "    for i in range(x.shape[0]):\n",
        "        for j in range(x.shape[1]):\n",
        "            x[i,j] += y[j]\n",
        "    return x"
      ]
    },
    {
      "cell_type": "code",
      "execution_count": null,
      "metadata": {
        "id": "Y1CkAD8Txc02"
      },
      "outputs": [],
      "source": [
        "# (a, b, ... n, n+1, ... m) 크기의 텐서와 (n, n+1, ... m) 크기의 텐서 사이에 브로드캐스팅으로 원소별 연산을 적용.\n",
        "# 이때 브로드캐스팅은 a 부터 n-1까지의 축에 자동으로 일어남.\n",
        "# 두 텐서에 브로드캐스팅으로 원소별 maximum 연산을 적용하는 예.\n",
        "\n",
        "import numpy as np\n",
        "x = np.random.random( (64, 3, 32, 10))  # x는 (64,3,32,10) 크기의 랜덤 텐서\n",
        "y = np.random.random( (32,10) ) # y는 (32,10) 크기의 랜덤 텐서\n",
        "z = np.maximum(x,y) #출력 z 크기는 x와 동일하게 (64,3,32,10) ."
      ]
    },
    {
      "cell_type": "markdown",
      "metadata": {
        "id": "pvcryPgUK58h"
      },
      "source": [
        "### 텐서 점곱"
      ]
    },
    {
      "cell_type": "code",
      "execution_count": null,
      "metadata": {
        "id": "kGFctFcBxc02"
      },
      "outputs": [],
      "source": [
        "# 텐서 곱셈이라고도 부르는 (원소별 곱셈과 혼동하지 마세요). 점곱 연산은 가장 널리 사용되고 유용한 텐서 연산\n",
        "# - 원소별 연산과 반대로 입력 텐서의 원소들을 결합시킨다.\n",
        "# numpy, keras, Tensorflow에서 원소별 곱셈은 * 연산자 사용. Tensorflow에서는 dot 연산자가 다르지만 numpy, keras는 점곱 연산에 보편적인 dot 연산자를 사용\n",
        "\n",
        "import numpy as np\n",
        "z = np.dot(x,y)\n",
        "z = x * y\n",
        "\n",
        "# 점곱 연산은 2개의 벡터 x,y 의 점곱은 아래와 같음\n",
        "\n",
        "def naive_vector_dot(x,y):\n",
        "    assert len(x.shape) == 1\n",
        "    assert len(y.shape) == 1\n",
        "    assert x.shape[0] == y.shape[0]\n",
        "    \n",
        "    z = 0.\n",
        "    for i in range(x.shape[0]):\n",
        "        z += x[i] * y[i]\n",
        "    return z\n",
        "\n",
        "\n",
        "\n",
        "# 두 벡터의 점곱은 스칼라, 원소 개수가 같은 벡터끼리 점곱이 가능함\n",
        "\n",
        "# 행렬 x와 벡터 y 사이에서도 점곱이 가능합니다.\n",
        "# y와 x의 행 사이에서 점곱이 일어나므로 벡터가 반환됨.\n",
        "\n",
        "import numpy as np\n",
        "def naive_matrix_vector_dot(x,y):\n",
        "    assert len(x.shape) == 2 # x : np.array\n",
        "    assert len(y.shape) == 1 # y : np.array\n",
        "    assert x.shape[1] == y.shape[0] # x의 두 번째 차원이 y의 첫 번째 차원과 같아야 함\n",
        "\n",
        "    z = np.zeros(x.shape[0])\n",
        "    for i in range(x.shape[0]):\n",
        "        for j in range(x.shape[1]):\n",
        "            z[i] += x[i,j] * y[j]\n",
        "    return z"
      ]
    },
    {
      "cell_type": "code",
      "execution_count": null,
      "metadata": {
        "id": "NJbiQD1gxc02"
      },
      "outputs": [],
      "source": [
        "def navive_matrix_vector_dot(x,y):\n",
        "    z = np.zeros(x.shape[0])\n",
        "    for i in range(x.shape[0]):\n",
        "        z[i] = naive_vector_dotx(x[i,:],y)\n",
        "    return z\n",
        "\n",
        "# 두 텐서 중 하나라고 ndim이 1보다 크면 dot 연산에 교환 법칙이 성립되지 않습니다.\n",
        "dot(x, y) != dot(y, x)\n",
        "\n",
        "# 물론 점곱은 임의의 축 개수를 가진 텐서에 일반화 됨.\n",
        "# 가장 일반적인 용도는 두 행렬 간의 점곱일 것이다.\n",
        "\n",
        "if x.shape[1] == y.shape[0] : dox(x,y)\n",
        "\n",
        "# x의 행과 y의 열 사이 벡터 점곱으로 인해 (x.shape[0], y.shape[1]) 크기의 행렬."
      ]
    },
    {
      "cell_type": "code",
      "execution_count": null,
      "metadata": {
        "id": "A7cwJZveQizF"
      },
      "outputs": [],
      "source": [
        "# 단순한 구현\n",
        "\n",
        "def naive_matrix_dot(x,y):\n",
        "    assert len(x.shape) == 2\n",
        "    assert len(y.shape) == 2 \n",
        "    assert x.shape[1] == y.shape[0]\n",
        "\n",
        "    z = np.zeros( (x.shape[0], y.shape[1]))\n",
        "    for i in range(x.shape[0]):\n",
        "        for j in range(y.shape[1]):\n",
        "            row_x = x[i, :]\n",
        "            column_y = y[: j]\n",
        "            z[i, j] = naive_vector_dot(row_x, column_y)\n",
        "    return z\n",
        "\n",
        "# 입력과 출력을 배치하면 아래와 같음"
      ]
    },
    {
      "cell_type": "markdown",
      "metadata": {
        "id": "81cYgtIQSD3M"
      },
      "source": [
        "![image.png](data:image/png;base64,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)\n",
        "\n",
        "        \n",
        "        x,y,z는 직사각형 모양으로 그려져 있습니다. (원소들이 채워진 박스라고 생각하면 됨.) \n",
        "        x의 행 벡터와 y의 열 벡터가 같은 크기여야 함. 자동으로 x의 너비는 y의 높이와 동일해야 합니다. \n",
        "        새로운 머신 러닝 알고리즘을 개발할 때 이런 그림을 자주 그림.\n",
        "\n",
        "        더 일반적으로는 앞서 설명한 2D의 경우처럼 크기를 맞추는 동일한 규칙을 따르면\n",
        "        다음과 같이 고차원 텐서 간의 점곱을 할 수 있다.\n",
        "        (a,b,c,d) • (d,) -> (a,b,c)\n",
        "        (a,b,c,d) • (d,e) -> (a,b,c,e)"
      ]
    },
    {
      "cell_type": "markdown",
      "metadata": {
        "id": "-jwJft9WSFEO"
      },
      "source": [
        "### 텐서 크기 변환"
      ]
    },
    {
      "cell_type": "code",
      "execution_count": null,
      "metadata": {
        "id": "EK95AOknK58m"
      },
      "outputs": [],
      "source": [
        "# 첫 번째 신경망 예제의 Dense 층에서는 사용되지 않음. 신경망에 주입할 숫자 데이터를 전처리할 때 사용함.\n",
        "train_images = train_images.reshape( (60000, 28 * 28) )\n",
        "\n",
        "# 텐서의 크기를 변환한다는 것 == 특정 크기에 맞게 열과 행을 재배열한다는 것.\n",
        "# 크기 변환된 텐서는 원래 텐서와 원소 개수가 동일."
      ]
    },
    {
      "cell_type": "code",
      "execution_count": null,
      "metadata": {
        "id": "Lg2tkIo8K58m",
        "outputId": "2b90ca9d-cc31-4cbe-ad1e-fca190d9fa4e"
      },
      "outputs": [
        {
          "name": "stdout",
          "output_type": "stream",
          "text": [
            "x_shape > (3, 2)\n",
            "x_reshape > (6, 1)\n",
            "\n",
            "x _ array >  [[0.]\n",
            " [1.]\n",
            " [2.]\n",
            " [3.]\n",
            " [4.]\n",
            " [5.]]\n",
            "x_reshape > (2, 3)\n",
            "\n",
            "x _ array >  [[0. 1. 2.]\n",
            " [3. 4. 5.]]\n"
          ]
        }
      ],
      "source": [
        "x = np.array([ [0., 1.],\n",
        "              [2., 3.],\n",
        "              [4., 5.] ])\n",
        "print(\"x_shape >\" , x.shape)             \n",
        "\n",
        "x = x.reshape( (6,1) )\n",
        "print(\"x_reshape >\" , x.shape)             \n",
        "\n",
        "print('\\nx _ array > ' ,x )\n",
        "\n",
        "x = x.reshape( (2,3) )\n",
        "print(\"x_reshape >\" , x.shape)       \n",
        "print('\\nx _ array > ' ,x )"
      ]
    },
    {
      "cell_type": "code",
      "execution_count": null,
      "metadata": {
        "id": "I1FIsUtMK58n",
        "outputId": "308105c3-a9a2-46cd-de47-fb5997b90f87"
      },
      "outputs": [
        {
          "name": "stdout",
          "output_type": "stream",
          "text": [
            "(200, 300)\n"
          ]
        }
      ],
      "source": [
        "# \"전치\" ( transposition ). 행렬의 전치는 행과 열을 바꾸는 것을 의미.\n",
        "# x[i, :] ->  x[:, i]\n",
        "import numpy as np\n",
        "x = np.zeros( (300,200) )\n",
        "x = np.transpose(x)\n",
        "print(x.shape)"
      ]
    },
    {
      "cell_type": "markdown",
      "metadata": {
        "id": "8Rg0PVkBK58n"
      },
      "source": [
        "### 텐서 연산의 기하학적 해석"
      ]
    },
    {
      "cell_type": "code",
      "execution_count": null,
      "metadata": {
        "id": "xlhVXCK-K58n"
      },
      "outputs": [],
      "source": [
        "# 텐서 연산이 조작하는 텐서의 내용은 어떤 기하학적 공간에 있는 좌표 포인트로 해석됨.\n",
        "# 따라서 모든 텐서 연산은 기하학적 해석.\n",
        "\n",
        "A = [0.5, 1] # 2D coordinate\n",
        "# 2D 내 벡터이므로 원점에서 포인트를 연결하는 화살표로 벡터를 나타냄.\n",
        "# 새로운 포인트\n",
        "B = [1, 0.25]\n",
        "# 이 포인트를 A 포인트와 덧셈을 하면 아래와 같음"
      ]
    },
    {
      "cell_type": "markdown",
      "metadata": {
        "id": "zTd5jBaCK58n"
      },
      "source": [
        "![](https://github.com/kikiru328/Study_notebook/blob/main/Study_code/Deeplearning_framework/keras/2022-05-07-18-27-46.png?raw=1)"
      ]
    },
    {
      "cell_type": "code",
      "execution_count": null,
      "metadata": {
        "id": "mcEOS4JqK58n"
      },
      "outputs": [],
      "source": [
        "# 일반적으로 아핀 변환 ( affine transformation ), 회전, 스케일링 ( scaling ) 등 처럼 기본적인 기하학적 연산은 텐서 연산으로 표현될 수 있다.\n",
        "        # 아핀변환 : 점, 직선, 평면을 보존하는 아핀 공간으로의 변환. 이 변환은 거리의 비율과 직선의 평행을 유지하는 이동, 스케일링, 회전 등을 포함.\n",
        "# 예를 들어 theta 각도로 2D 벡터를 회전하는 것은 2 x 2 행렬 R = [ u, v ] 를 점곱하여 구현할 수 있다.\n",
        "# 여기서 u, v는 동일 평면상의 벡터.\n",
        "u = [ cos(thesta), sin(theta) ]\n",
        "v = [ -sin(theta), cos(theta) ]"
      ]
    },
    {
      "cell_type": "markdown",
      "metadata": {
        "id": "pN5W9hu9K58n"
      },
      "source": [
        "### 딥러닝의 기하학적 해석"
      ]
    },
    {
      "cell_type": "code",
      "execution_count": null,
      "metadata": {
        "id": "GpG43pSwK58o"
      },
      "outputs": [],
      "source": [
        "# 신경망은 전체적으로 텐서 연산의 연결\n",
        "# 텐서 연산은 입력 데이터의 기하학적 변환.\n",
        "# 단순한 단계들이 길게 이어져 구현된 신경망 --> 고차원 공간에서 매우 복잡한 기하학적 변환을 하는 것.\n",
        "# 심층 네트워크의 각 층은 데이터를 조금씩 풀어 주는 변환을 적용한다.  \n",
        "# 이러한 층을 깊게 쌓으면 아주 복잡한 분해 과정을 처리할 수 있다."
      ]
    },
    {
      "cell_type": "markdown",
      "metadata": {
        "id": "DnMrME0MK58o"
      },
      "source": [
        "# 신경망의 엔진 : 그래디언트 기반 최적화"
      ]
    },
    {
      "cell_type": "code",
      "execution_count": null,
      "metadata": {
        "id": "AOvDvEy8K58o"
      },
      "outputs": [],
      "source": [
        "# 첫 번째 신경망 예제에 있는 각 층은 입력 데이터를 다음과 같이 변환한다.\n",
        "output = relu(dot(W, input) + b)\n",
        "# 이 식에서 텐서 W와 b는 층의 속성처럼 볼 수 있다.\n",
        "# 가중치 (weight) 또는 훈련된 파라미터 (trainable parameter)라고 불림. ( 각각 커널 (kernel)과 편향 (bias) 라고도 함. )\n",
        "\n",
        "# 초기에는 가중치 행렬이 작은 난수로 채워져있음. (무작위 초기화 (random initalization) 단계라고 부름.)\n",
        "# 물론 W와 b가 난수일 때 Relu(dot(W, input) + b ) 가 유용한 어떤 표현을 만들 것이라고 기대할 수 없음.\n",
        "# 훈련은 다음과 같은 훈련 반복 루프 (training loop) 안에서 일어남.\n",
        "# 필요한 만큼 반복 루프안에서 이런 단계가 반복됨.\n",
        "#   1. 훈련 샘플 x 와 이레 상응하는 타긴 y의 배치를 추출함.\n",
        "#   2. x를 사용하여 네트워크를 실행하고 (정방향 패스 (forward pass) 단계), 예측 y_pred를 구함.\n",
        "#   3. y_pred와 y의 차이를 측정하여 이 배치에 대한 네트워크의 손실을 계산함.\n",
        "#   4. 배치에 대한 손실이 조금 감소되도록 네트워크의 모든 가중치를 업데이트 함.\n",
        "# 결국 훈련 데이터에서 네트워크의 손실. 예측 y_pred와 타깃 y의 오차가 매우 작아질 것.\n",
        "# 이 네트워크는 입력에 정확한 타깃을 매핑하는 것을 학습함.\n",
        "# 개별적인 가중치 값이 있을 때 값이 증가해야할 지, 감소해야할 지 얼마큼 업데이트 할 지 아는 법\n",
        "#   네트워크 가중치 행펼의 원소를 모두 고정하고 관심 있는 하나만 다른 값을 적용해 본다.\n",
        "#   이 가중치의 초깃값이 0.3 이라고 가정. 배치 데이터를 정방향 패스에 통과시킨 후 네트워크의 손실이 0.5가 나옴.\n",
        "#   이 가중치의 값을 0.35라고 변경하고 다시 정방향 패스를 실행, 손실이 0.6으로 증가.\n",
        "#   반대로 0.25로 줄이면 손실이 0.4로 감소. 이 경우에는 가중치를 -0.05만큼 업데이트한 것이 손실을 줄이는데 기여함. 이런식으로 진행\n",
        "# 이런 접근 방식은 모든 가중치 행렬의 원소마다 두 번의 (비용이 큰) 정방향 패스를 계산해야 함 >> 비효율\n",
        "# 신경망에 사용뙨 모든 연산이 미분 가능 하다는 장점을 사용, 네트워크 가중치에 대한 손실의 그래디언트를 계산하는 것이 훨씬 더 좋은 방법.\n",
        "# 그래디언트의 반대방향으로 가중치를 이동하면 손실이 감소된다."
      ]
    },
    {
      "cell_type": "markdown",
      "metadata": {
        "id": "BijQlOdNK58o"
      },
      "source": [
        "### 변화율"
      ]
    },
    {
      "cell_type": "code",
      "execution_count": null,
      "metadata": {
        "id": "H3XBM5PAK58o"
      },
      "outputs": [],
      "source": [
        "# 실수 x를 새로운 실수 y로 매핑하는 연속적이고 매끄러운 함수 f(x) = y \n",
        "# 해당 함수는 연속적이므로 x의 변화가 y를 변환시킬 것.\n",
        "# x를 epsilon_x 만큼 증가시키면 y는 epsilon_y 만큼 바뀜\n",
        "f(x + epslion_x) = y + epsilon_y\n",
        "\n",
        "# 또 이 함수가 매끈하므로 (곡선의 각도가 갑자기 바뀌지 않음) epslion_x가 충분히 작으면\n",
        "# 어떤 포인트 p에서 기울기 a의 선형 함수로 f를 근사할 수 있다.\n",
        "# 따라서 epsilon_y는 a * epsilon_x 가 된다.\n",
        "f(x + epsilon_x) = y + a * epsilon_x"
      ]
    },
    {
      "cell_type": "code",
      "execution_count": null,
      "metadata": {
        "id": "y5MZqBu-K58o"
      },
      "outputs": [],
      "source": [
        "# 이 선형 근사는 x가 p에 충분히 가까울 때 유효함.\n",
        "# 이 기울기를 p에서 f의 \"변화율 (derivative)\" \n",
        "# 이는 a가 음수일 때 p에서 양수 x만큼 조금 이동하면 f(x)가 감소한다는 것.\n",
        "# a가 양수일 때는 음수 x만큼 조금 이동하면 f(x)가 감소된다.\n",
        "# a의 절대값 (변화율의 크기)은 이런 증가나 감소가 얼마나 빠르게 일어날지 알려줌.\n",
        "# 모든 미분 가능한 함수 f(x)에 대해 x의 값을 f의 국부적인 선형 근사인 그 지점을 기울기로 매핑하는 변화율 함수 f'(x)가 존재.\n",
        "# 예를 들어 cos(x)의 변화율은 -sin(x)이고, f(x) = a * x 의 변화율은 f'(x) = a 이다.\n",
        "# f(x)를 최소화하기 위해 epsilon_x만큼 x를 업데이트하고 싶을 때 f의 변화율을 알고 있으면 해결됨.\n",
        "# 변화율 함수는 x가 바뀜에 따라 f(x)가 어떻게 바뀔지 설명이 됨."
      ]
    },
    {
      "cell_type": "markdown",
      "metadata": {
        "id": "phW8hZ5CK58o"
      },
      "source": [
        "### 텐서 연산의 변화율 : 그래디언트"
      ]
    },
    {
      "cell_type": "code",
      "execution_count": null,
      "metadata": {
        "id": "y6c9-iaZK58o"
      },
      "outputs": [],
      "source": [
        "# 그래디언트는 텐서 연산의 변화율.\n",
        "# 이는 다차원 입력, 즉 텐서를 입력으로 받는 함수에 변화율 개념을 확장시킨 것.\n",
        "# 입력 벡터 x, 행렬 W, 타깃 y와 손실 함수 Loss가 있다고 가정.\n",
        "# W를 사용하여 타깃의 예측 y_pred를 계산하고 손실, 즉 타깃 예측 y_pred와 타깃 y 사이의 오차를 계산할 수 있다.\n",
        "y_pred = dot(W,x)\n",
        "loss_value = loss(y_pred, y)\n",
        "# 입력 데이터 x와 y가 고정되어 있다면 이 함수는 W를 손실 값에 매핑하는 함수로 볼 수 있다.\n",
        "loss_value = f(W)\n",
        "# W의 현재 값을 W0라고 합시다. 포인트 W0에서 f의 변화율은 W와 같은 크기의 텐서인 gradient(f)(W0).\n",
        "# 이 텐서의 각 원소 gradientg(f)(W0)[i,j]는 W0[i,j]를 변경했을 때 loss_value가 바뀌는 방향과 크기를 나타냄.\n",
        "# 다시 말해 텐서 gradient(f)(W0)가 W0에서 함수 f(W) = loss_value 의 그래디언트\n",
        "\n",
        "# 앞서 함수 f(x)의 변화율 하나는 곡선 f의 기울기로 해석할 수 있다는 것.\n",
        "# 비슷하게 gradient(f)(W0)는 W0에서 f(W)의 기울기를 나타내는 텐서로 해석할 수 있다.\n",
        "\n",
        "# 그렇기 떄문에 함수 f(x)에 대해서는 변화율의 반대 방향으로 x를 조금 움직이면 f(x)의 값을 감소시킬 수 있다.\n",
        "# 동일한 방식을 적용하면 함수 f(W)의 입장에서는 그래디언트의 반대 방향으로 W를 움직이면 f(W)의 값을 줄일 수 있다."
      ]
    },
    {
      "cell_type": "markdown",
      "metadata": {
        "id": "vK6YlhZaK58p"
      },
      "source": [
        "### 확률적 경사 하강법"
      ]
    },
    {
      "cell_type": "code",
      "execution_count": null,
      "metadata": {
        "id": "PQ04hDMlK58p"
      },
      "outputs": [],
      "source": [
        "# 미분 가능한 함수가 주어지면 이론적으로 이 함수의 최솟값을 해석적으로 구할 수 있다.\n",
        "# 함수의 최솟값은 변화율이 0인 지점.\n",
        "# 따라서 변화율이 0이 되는 지점을 모두 찾고, 이 중에서 어떤 포인트의 함수 값이 가장 작은지 확인하는 것.\n",
        "\n",
        "# 신경망에 적용하면 가장 작은 손실 함수의 값을 만드는 가중치의 조합을 해석적으로 찾는 것을 의미.\n",
        "# 이는 식 gradient(f)(W) = 0을 풀면 해결된다.\n",
        "# 이 식은 N개의 변수로 이루어진 다항식. ( N = 네트워크의 가중치 개수 )\n",
        "# N = 2나 N = 3인 식을 푸는 것은 가능, 하지만 실제 신경망에서는 파라미터의 개수가 수천 개 보다 적은 경우가 거의 없고, 종종 수천 \"만\"개 임.\n",
        "# 따라서 미분 가능한 함수를 가지고 있으므로 그래디언트를 계산하여 호율적으로 구현이 가능함.\n",
        "# 그래디언트의 반대 방향으로 가중치를 업데이트하면 손실이 매번 조금씩 감소할 것.\n",
        "#   1. 훈련 샘플 배치 x와 이에 상응하는 타깃 y를 추출함.\n",
        "#   2. x로 네트워크를 실행하고 예측 y_pred를 구함\n",
        "#   3. 이 배치에서 y_pred와 y 사이의 오차를 측정하여 네트워크의 손실을 계산.\n",
        "#   4. 네트워크의 파라미터에 대한 손실 함수의 그래디언트를 계산 ( 역방향 패스 )\n",
        "#   5. 그래디언트의 반대 방향으로 파라미터를 조금 이동. W -= step * gradient >> 배치에 대한 손실이 감소할 것.\n",
        "\n",
        "# 위에서 얘기한 것 == 미니 배치 확률적 경사 하강법\n",
        "# 확률적이란 단어는 각 배치 데이터가 무작위로 선택됨."
      ]
    },
    {
      "cell_type": "code",
      "execution_count": null,
      "metadata": {
        "id": "RiAVcyt-K58p"
      },
      "outputs": [],
      "source": [
        "# 업데이트,할 다음 가중치를 계산할 때 현재 그래디언트 값만 보지 않고 이전에 업데이트된 가중치를 여러 가지 다른 방식으로 고려하는 SGD변종이 있음.\n",
        "# 예를 들어 모멘텀을 사용한 SGD, Adagrad, RMSprop등.\n",
        "# 이런 변종들을 모두 최적화 (OPTIMIZER) 라고 한다.\n",
        "# 특히 여러 변종들에서 사용하는 모멘텀 (MOMENTUM) \n",
        "# 모멘텀은 SGD에 있는 2개의 문제점인 수렴 속도와 지역 최솟값을 해결함."
      ]
    },
    {
      "cell_type": "markdown",
      "metadata": {
        "id": "A5MqeMUIK58p"
      },
      "source": [
        "![](![](2022-05-07-19-08-34.png).png)"
      ]
    },
    {
      "cell_type": "code",
      "execution_count": null,
      "metadata": {
        "id": "DtDSq4O4K58p"
      },
      "outputs": [],
      "source": [
        "# MOMENTUM 구현\n",
        "past_velocitiy = 0.\n",
        "momentum = 0.1 # 모멘텀 상수\n",
        "while loss > 0.01: # 최적화 반복 루프\n",
        "        w, loss, gradient = get_current_parameters()\n",
        "        velocity = momentum * past_velocitiy - learning_rate * gradient\n",
        "        w = w + momentum * velocity - learning_rate * gradient\n",
        "        past_velocitiy = velocity\n",
        "        update_parameter(w)"
      ]
    },
    {
      "cell_type": "markdown",
      "metadata": {
        "id": "BSoCQSSJK58p"
      },
      "source": [
        "### 변화율 연결 : 역전파 알고리즘"
      ]
    },
    {
      "cell_type": "code",
      "execution_count": null,
      "metadata": {
        "id": "DS6GLqQaK58p"
      },
      "outputs": [],
      "source": [
        "# 앞의 알고리즘에서 함수가 미분 가능하기 때문에 변화율을 직접 계산할 수 있다고 가정.\n",
        "# 실제로 신경망은 많은 텐서 연산으로 구성되어 있고, 이 연산들의 변화율은 간단하며 이미 잘 알려져 있다.\n",
        "# 3개의 텐서 연산 a,b,c와 가중치 행렬 W1, W2, W3로 구성된 네트워크 f를 예로 들어봄.\n",
        "f(W1, W2, W3) = a(W1, b(W2, c(W3)))\n",
        "\n",
        "# 연쇄 법칙을 신경망의 그래디언트 계산에 적용하여 역전파 알고리즘 ( 후진 모드 자동 미분 ) 이 만들어짐.\n",
        "# 역전파는 최종 손실 값부터 시작된다.\n",
        "# 손실 값에 각 팔파미터가 기여한 정도를 계산하기 위해 연쇄 법칙을 적용하여 최상위 층에서 하위층까지 거꾸로 진행."
      ]
    },
    {
      "cell_type": "markdown",
      "metadata": {
        "id": "RXWTq3NIK58p"
      },
      "source": [
        "# 예제 다시 살피기"
      ]
    },
    {
      "cell_type": "code",
      "execution_count": null,
      "metadata": {
        "id": "F4AWtWHxK58q"
      },
      "outputs": [],
      "source": [
        "# 입력 데이터\n",
        "(train_images, train_labels), (test_images, test_labels) = mnist.load_data()\n",
        "trtain_images = train_images. reshape( (60000, 28 * 28))\n",
        "train_images = train_images.astype('float32') / 255\n",
        "test_images = test_images.reshape( (10000, 28 * 28))\n",
        "test_images = test_images.astype('float32') / 255\n",
        "\n",
        "# 입력 이미지의 데이터 타입은 float32로, 훈련 데이터는 (60000, 784). 테스트 데이터는 (10000, 784).\n",
        "# 사용할 신경망\n",
        "network = models.Sequential()\n",
        "network.add(layers.Dense(512, activation='relu', input_shape=(28 * 28,)))\n",
        "network.add(layers.Dense(10, activation='softmax'))\n",
        "\n",
        "# 이 네트워크는 2개의 Dense 층이 연결되어 있고 각 층은 가중치 텐서를 포함하여 입력 데이터에 대한 몇 개의 간단한 텐서 연산을 적용.\n",
        "# 층의 속성인 가중치 텐서는 네트워크가 정보를 저장하는 곳.\n",
        "# 네트워크 컴파일\n",
        "network.compile(optimizer='rmsprop',\n",
        "                loss = 'categorical_crossentropy',\n",
        "                metrics = ['accuracy'])\n",
        "\n",
        "# 훈련 반복\n",
        "network.fit(train_images, train_labels, epochs = 5, batch_size = 128)"
      ]
    },
    {
      "cell_type": "markdown",
      "metadata": {
        "id": "omqtB_axK58q"
      },
      "source": [
        "# 요약"
      ]
    },
    {
      "cell_type": "markdown",
      "metadata": {
        "id": "SM5tYUgqK58q"
      },
      "source": [
        "    - 학습은 훈련 데이터 샘플과 그에 상응하는 타깃이 주어졌을 때 손실 함수를 최소화하는 모델 파라미터의 조합을 찾는 것을 의미.\n",
        "    - 데이터 샘플과 타깃의 배칠플 랜덤하게 뽑고 이 배치에서 손실에 대한 파라미터의 그래디언트를 계산함으로써 학습이 진행됨.\n",
        "      네트워크의 파라미터는 그래디언트의 반대 방향으로 조금씩 (학습률에 의해 정의된 크기만큼) 움직인다.\n",
        "    - 전체 학습 과정은 신경망이 미분 가능한 텐서 연산으로 연결되어 있기 떄문에 가능.\n",
        "      현재 파라미터와 배치 데이터를 그래디언트 값에 매핑해 주는 그래디언트 함수를 구성하기 위해 미분의 연쇄 법칙을 사용한다.\n",
        "    - 손실은 훈련하는 동안 최소화해야 할 양. 해결하려는 문제의 성공을 측정하는ㅁ데 사용됨.\n",
        "    - 옵티마이저는 손실에 대한 그래디언트가 파라미터를 업데이트하는 정확한 방식을 정의함."
      ]
    }
  ],
  "metadata": {
    "colab": {
      "name": "keras02.ipynb",
      "provenance": [],
      "include_colab_link": true
    },
    "interpreter": {
      "hash": "c2799165af89f6601175a680ebfc1dbe06732e477f7b817379fe26488ea1526c"
    },
    "kernelspec": {
      "display_name": "Python 3.9.12 ('workspace')",
      "language": "python",
      "name": "python3"
    },
    "language_info": {
      "codemirror_mode": {
        "name": "ipython",
        "version": 3
      },
      "file_extension": ".py",
      "mimetype": "text/x-python",
      "name": "python",
      "nbconvert_exporter": "python",
      "pygments_lexer": "ipython3",
      "version": "3.9.12"
    },
    "orig_nbformat": 4
  },
  "nbformat": 4,
  "nbformat_minor": 0
}