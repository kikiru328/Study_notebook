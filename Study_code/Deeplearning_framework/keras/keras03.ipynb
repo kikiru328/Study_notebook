{
  "cells": [
    {
      "cell_type": "markdown",
      "metadata": {
        "id": "view-in-github",
        "colab_type": "text"
      },
      "source": [
        "<a href=\"https://colab.research.google.com/github/kikiru328/Study_notebook/blob/main/Study_code/Deeplearning_framework/keras/keras03.ipynb\" target=\"_parent\"><img src=\"https://colab.research.google.com/assets/colab-badge.svg\" alt=\"Open In Colab\"/></a>"
      ]
    },
    {
      "cell_type": "markdown",
      "metadata": {
        "id": "0DzEKTRTHAGE"
      },
      "source": [
        "# 신경망의 구조\n",
        "\n",
        "    * 신경망의 훈련에는 다음 요소가 관련되어 있다.\n",
        "    1. 네트워크 (또는 모델)을 구성하는 층\n",
        "    2. 입력 데이터와 그에 상응하는 타깃\n",
        "    3. 학습에 사용할 피드백 신호를 정의하는 손실 함수\n",
        "    4. 학습 진행 방식을 결정하는 옵티마이저"
      ]
    },
    {
      "cell_type": "markdown",
      "source": [
        "### 층 : 딥러닝의 구성 단위"
      ],
      "metadata": {
        "id": "8gPqnIOAHYYI"
      }
    },
    {
      "cell_type": "code",
      "source": [
        "# 층은 하나 이상의 텐서를 입력으로 받아 하나 이상의 텐서를 출력하는 데이터 처리 모듈.\n",
        "# 대부분의 경우 가중치라는 층의 상태를 가지며, 가중치는 확률적 경사 하강법에 의해 학습되는 하나 이상의 텐서이다.\n",
        "# 층마다 적절한 텐서 포맷ㅎ과 데이터 처리 방식이 다름.\n",
        "# ex) (samples, features) 크기의 2D 텐서가 저장된 간단한 벡터 데이터 == 완전 연결 층 / 빌집 연결 층 에 의해 처리됨.\n",
        "#     (samples, timesteps, features) 크기의 3D 텐서로 저장된 시퀀스 데이터는 보통 LSTM과 같은 순환층\n",
        "#     4D 텐서로 저장되어 있는 이미지 데이터는 일반적으로 2D 합성곱 층에 의해 처리됨. (Conv2D)\n",
        "# 케라스는 호환 가능한 층들을 엮어 데이터 변환 파이프라인을 구성함으로써 딥러닝 모델을 구축함.\n",
        "# 층 호환성은 각 층이 특정 크기의 입력 텐서만 받고 특정 크기의 출력 텐서를 반환함.\n",
        "\n",
        "from tensorflow.keras import layers\n",
        "layer = layers.Dense( 32, input_shape=(784,) ) # 32개의 유닛으로 된 밀집 층을 의미.\n",
        "\n",
        "# 첫 번째 차원이 784인 2D 텐서만 입력으로 받는 층. ( 배치 차원인 0번째 축은 지정하지 않아 어떤 배치 크기도 입력 가능)\n",
        "# 이 층은 첫 번째 차원 크기가 32로 변환된 텐서를 출력할 것.\n",
        "# 따라서 이 층에는 32차원의 벡터를 입력으로 받는 하위 층이 연결되어야 함.\n",
        "\n",
        "from tensorflow.keras import models\n",
        "from tensorflow.keras import layers\n",
        "\n",
        "model = models.Sequential()\n",
        "model.add( layers.Dense( 32, input_shape = (784,) )\n",
        "model.add( layers.Dense( 10 ) )\n",
        "\n",
        "# 두 번째 층에는 input_shape 매개변수를 지정하지 않음 --> 앞선 층의 출력 크기를 입력 크기로 자동 채택"
      ],
      "metadata": {
        "id": "4EY4pz6tHc15"
      },
      "execution_count": null,
      "outputs": []
    },
    {
      "cell_type": "markdown",
      "source": [
        "### 모델 : 층의 네트워크"
      ],
      "metadata": {
        "id": "qMSP0y1VJj_W"
      }
    },
    {
      "cell_type": "code",
      "source": [
        "# 띱러닝 모델은 층으로 만든 비순환 유향 그래프. \n",
        "# 하나의 입력을 하나의 출력으로 매핑하는 층을 순서대로 쌓음.\n",
        "# 네트워크 구조 == 가설 공간. ( 가능성 있는 공간을 사전에 정의하고 피드백 신호의 도움을 받아 입력 데이터에 대한 유용한 변환을 찾는 것. )\n",
        "# 가설 공간을 입력 데이터에서 출력 데이터로 매핑하는 일련의 특정 텐서 == 네트워크 구조"
      ],
      "metadata": {
        "id": "jKSUkY73KcYv"
      },
      "execution_count": null,
      "outputs": []
    },
    {
      "cell_type": "markdown",
      "source": [
        "### 손실 함수와 옵티마이저 : 학습 과정을 조절하는 열쇠"
      ],
      "metadata": {
        "id": "iFHJMn1sKyGb"
      }
    },
    {
      "cell_type": "code",
      "source": [
        "# 네트워크 구조를 정의하면 두 가지를 선택해야된다.\n",
        "# 손실함수 ( 목적 함수 ) : 훈련하는 동안 최소화 될 값.\n",
        "# 옵티마이저 : 손실 함수를 기반으로 네트워크가 어떻게 업데이트될지 결정. 특정 종류의 확률적 경사 하강법을 구현.\n",
        "# 문제에 맞는 목적 함수를 선택해야 됨.\n",
        "# 2개의 클래스 분류 : 이진 크로스엔트로피 ( binary crossentropy )\n",
        "# 다중 클래스 분류 : 범주형 크로스엔트로피 ( categorical crossentropy )\n",
        "# 회귀 문제 : 평균 제곱 오차 ( Mean Squard Error )\n",
        "# 시퀀스 학습 문제 : CTC ( connection Temporal Classification )"
      ],
      "metadata": {
        "id": "U1gWRy_bK45H"
      },
      "execution_count": null,
      "outputs": []
    },
    {
      "cell_type": "markdown",
      "source": [
        "# 케라스란\n",
        "\n",
        "    - 동일한 코드로 cpu 와 gpu 에서 사용이 가능\n",
        "    - 사용하기 쉬운 api, 딥러닝 모델의 프로토타입을 빠르게 생성 가능\n",
        "    - 컴퓨터 비전을 위한 합성곱 신경망, 시퀀스 처리를 위한 순환 신경망을 지원. --> 자유롭게 조합하여 사용 가능\n",
        "    - 다중 입력이나 다중 출력 모델, 층의 공유, 모델 공유 등 어떤 네트워크 구조도 만들 수 있음. ==> GAN "
      ],
      "metadata": {
        "id": "mHYKjfvTLuvn"
      }
    },
    {
      "cell_type": "markdown",
      "source": [
        "### 케라스를 사용한 개발"
      ],
      "metadata": {
        "id": "kG08iHyzL15i"
      }
    },
    {
      "cell_type": "code",
      "source": [
        "from typing import Sequence\n",
        "# 모델을 정의하는 방법은 두가지.\n",
        "# 1. Sequential 클래스 ( 가장 자주 사용하는 구조인 층을 순서대로 쌓아 올린 네트워크 )\n",
        "# 2. Functional API ( 완전히 임의의 구조를 만들 수 있는 비순환 유향 그래프 )\n",
        "\n",
        "# Sequential\n",
        "from tensorflow.keras import models, layers\n",
        "model = models.Sequential()\n",
        "model.add(layers.Dense(32, activation='relu', input_shape = (784,)))\n",
        "model.add(layers.Dense(10, activation='softmax'))\n",
        "\n",
        "# API\n",
        "input_tensor = layers.Input(shape=(784,))\n",
        "x = layers.Dense(32, activation='relu')(input_tensor)\n",
        "output_tensor = layers.Dense(10, activation='softmax')(x)\n",
        "model = models.Model(inputs= input_tensor, outputs=output_tensor)\n",
        "# API를 사용하면 모델이 처리할 데이터 텐서를 만들고 마치 함수처럼 이 텐서에 층을 적용함.\n",
        "\n",
        "\n",
        "# 컴파일 단계에서 학습 과정이 설정된다.\n",
        "# 여기에서 모델이 사용할 옵티마이저와 손실 함수, 훈련 하는 동안 필요한 측정 지표를 지정.\n",
        "from tensorflow.keras import optimizers\n",
        "model.compile(optimizer=optimizers.RMSprop(learning_rate = 0.001),\n",
        "              loss = 'mse',\n",
        "              metrics=['accuracy'])\n",
        "\n",
        "# 마지막으로 입력 데이터의 넘파이 배열을\n",
        "# 모델의 fit() 메서드에 전달함으로써 학습 과정이 진행된다.\n",
        "model.fit(input_tensor, target_tensor, batch_size=128, epoch=10)"
      ],
      "metadata": {
        "id": "uI57cKdXMbCl"
      },
      "execution_count": null,
      "outputs": []
    },
    {
      "cell_type": "markdown",
      "source": [
        "# NLP ( 영화 리뷰 분류 : binary crossentropy )"
      ],
      "metadata": {
        "id": "27ngXPghM4Lq"
      }
    },
    {
      "cell_type": "markdown",
      "source": [
        "### IMDB\n",
        "\n",
        "    = Train 25000\n",
        "    - test 25000\n",
        "    - 50% 긍정 / 50% 부정"
      ],
      "metadata": {
        "id": "5L4-zYRTPCo1"
      }
    },
    {
      "cell_type": "code",
      "source": [
        "# IMDB 데이터셋 로드\n",
        "from tensorflow.keras.datasets import imdb\n",
        "(train_data, train_labels), (test_data, test_labels) = imdb.load_data( num_words = 10000 )\n",
        "# Train_labels / test_labels > negative : 0, positive : 1\n",
        "print(train_data[0])\n",
        "print(train_labels[0])\n",
        "#num_words = 10000개로 index 0~9999\n",
        "print(max( [max(sequence) for sequence in train_data]))\n",
        "\n",
        "word_index = imdb.get_word_index() # 단어와 정수 인덱스를 매핑\n",
        "reverse_word_index = dict( [(value,key) for (key, value) in word_index.items()]) # 정수 인덱스와 단어를 매핑 ( flip )\n",
        "decoded_review = ' '.join( [reverse_word_index.get(i-3, '?') for i in train_data[0]]) # 리뷰를 디코딩. 0,1,2 는 '패딩', '문서시작', '사전에 없음' 을 위한 인덱스 따라서 0,1,2 총 3을 제거"
      ],
      "metadata": {
        "colab": {
          "base_uri": "https://localhost:8080/"
        },
        "id": "g5VsWhlgI-lg",
        "outputId": "a3f088d2-2aca-4e1a-f333-0d0479717c14"
      },
      "execution_count": null,
      "outputs": [
        {
          "output_type": "stream",
          "name": "stdout",
          "text": [
            "[1, 14, 22, 16, 43, 530, 973, 1622, 1385, 65, 458, 4468, 66, 3941, 4, 173, 36, 256, 5, 25, 100, 43, 838, 112, 50, 670, 2, 9, 35, 480, 284, 5, 150, 4, 172, 112, 167, 2, 336, 385, 39, 4, 172, 4536, 1111, 17, 546, 38, 13, 447, 4, 192, 50, 16, 6, 147, 2025, 19, 14, 22, 4, 1920, 4613, 469, 4, 22, 71, 87, 12, 16, 43, 530, 38, 76, 15, 13, 1247, 4, 22, 17, 515, 17, 12, 16, 626, 18, 2, 5, 62, 386, 12, 8, 316, 8, 106, 5, 4, 2223, 5244, 16, 480, 66, 3785, 33, 4, 130, 12, 16, 38, 619, 5, 25, 124, 51, 36, 135, 48, 25, 1415, 33, 6, 22, 12, 215, 28, 77, 52, 5, 14, 407, 16, 82, 2, 8, 4, 107, 117, 5952, 15, 256, 4, 2, 7, 3766, 5, 723, 36, 71, 43, 530, 476, 26, 400, 317, 46, 7, 4, 2, 1029, 13, 104, 88, 4, 381, 15, 297, 98, 32, 2071, 56, 26, 141, 6, 194, 7486, 18, 4, 226, 22, 21, 134, 476, 26, 480, 5, 144, 30, 5535, 18, 51, 36, 28, 224, 92, 25, 104, 4, 226, 65, 16, 38, 1334, 88, 12, 16, 283, 5, 16, 4472, 113, 103, 32, 15, 16, 5345, 19, 178, 32]\n",
            "1\n",
            "9999\n",
            "Downloading data from https://storage.googleapis.com/tensorflow/tf-keras-datasets/imdb_word_index.json\n",
            "1646592/1641221 [==============================] - 0s 0us/step\n",
            "1654784/1641221 [==============================] - 0s 0us/step\n"
          ]
        }
      ]
    },
    {
      "cell_type": "markdown",
      "source": [
        "### Data 준비"
      ],
      "metadata": {
        "id": "oJDbyoPaJi2q"
      }
    },
    {
      "cell_type": "code",
      "source": [
        "# 신경망에 숫자 리스트를 주입할 수 없음. 리스트를 텐서로 변환해야함.\n",
        "# 같은 길이가 되도록 리스트에 패딩을 추가. samples, sequence_length 크기의 정수 텐서로 변환.\n",
        "# 그 다음 이 정수 텐서를 다룰 수 있는 층읋 신경망의 첫 번째 층으로 사용함. (Embedding)\n",
        "# 리스트를 one-hot encoding하여 0과 1의 벡터로 변환. 시퀀스 [3, 5]를 인덱스 3, 5의 위치는 1이고 그 외는 모두 0인 10,000차원의 벡터로 각각 변환.\n",
        "# 그 다음 부동 소수 벡터 데이터를 다룰 수 있는 Dense층을 신경망의 첫 번째 층으로 사용함.\n",
        "\n",
        "# int sequence to binary matrix\n",
        "import numpy as np\n",
        "def vectorize_sequence(sequences, dimension=10000):\n",
        "    results = np.zeros( (len(sequences), dimension) ) # 크기가 (len(sequences), dimension), 모든 원소가 0 (np.zeros)\n",
        "    for i, sequence in enumerate(sequences):\n",
        "        results[i, sequence] = 1. # results[i]에서 특정 인덱스의 위치를 1로 만듦\n",
        "    return results\n",
        "\n",
        "x_train = vectorize_sequence(train_data)\n",
        "x_test = vectorize_sequence(test_data)\n",
        "\n",
        "print(x_train[0])\n",
        "\n",
        "# 레이블 변환\n",
        "y_train = np.asarray(train_labels).astype('float32')\n",
        "y_test = np.asarray(test_labels).astype('float32')"
      ],
      "metadata": {
        "colab": {
          "base_uri": "https://localhost:8080/"
        },
        "id": "Y22rYnmiLEk2",
        "outputId": "4d0a19d5-b97b-4c97-df8a-cb50ccca6659"
      },
      "execution_count": null,
      "outputs": [
        {
          "output_type": "stream",
          "name": "stdout",
          "text": [
            "[0. 1. 1. ... 0. 0. 0.]\n"
          ]
        }
      ]
    },
    {
      "cell_type": "markdown",
      "source": [
        "### 신경망 모델 만들기\n",
        "\n",
        "    - 입력 데이터가 벡터, 레이블이 이진 >> 가장 쉬움\n",
        "    - 이런 문제에 잘 작동하는 네트워크 : acivation = 'relu' + 완전 연결층   # Relu : 음수를 0으로 만듬\n",
        "        Dense(16, activation='relu')\n",
        "    - Dense층의 16은 은닉 유닛. 하나의 은닉 유닛은 층이 나타내는 표현 공간에서 하나의 차원이 됨.\n",
        "    - 16개의 은닉 유닛이 있다는 것은 가중치 행렬 W의 크기가 (input_dimension, 16)이라는 뜻.\n",
        "    - 입력 데이터와 W를 점곱하면 입력 데이턱라 16차원으로 표현된 공간으로 투영. ( 그리고 편향 벡터 b를 더하고 relu 연산을 적용 )\n",
        "    - 은닉 유닛을 증가 ( 표현 공간을 더 고차원) > 신경망이 더욱 복잡한 표현을 할 수 있지만 무거워짐."
      ],
      "metadata": {
        "id": "EcwABMrRMup6"
      }
    },
    {
      "cell_type": "code",
      "source": [
        "# Dense 층을 쌓을때는 2가지 중요도 1. 얼마나 많은 층을 쌓을 것인지/ 얼마나 많은 은닉 유닛을 둘 것 인지?\n",
        "# relu : 음수를 0으로 만듬. sigmoid :출력 값을 확률로 계산\n",
        "\n",
        "from tensorflow.keras import models\n",
        "from tensorflow.keras import layers\n",
        "from tensorflow.keras import optimizers\n",
        "from tensorflow.keras import losses\n",
        "from tensorflow.keras import metrics\n",
        "model = models.Sequential()\n",
        "model.add(layers.Dense(16, activation='relu', input_shape=(10000,)))\n",
        "model.add(layers.Dense(16, activation='relu'))\n",
        "model.add(layers.Dense(1, activation = 'sigmoid'))\n",
        "# model.compile(optimizer = 'rmsprop', loss='binary_crossentropy', metrics=['accuracy'])\n",
        "model.compile(optimizer = optimizers.RMSprop(learning_rate = 0.001), loss=losses.binary_crossentropy, metrics=[metrics.binary_accuracy])\n"
      ],
      "metadata": {
        "id": "DFxb3mtzNOXy"
      },
      "execution_count": null,
      "outputs": []
    },
    {
      "cell_type": "markdown",
      "source": [
        "### 훈련 검증"
      ],
      "metadata": {
        "id": "SWlFBio5UcBt"
      }
    },
    {
      "cell_type": "code",
      "source": [
        "x_val = x_train[:10000]\n",
        "partial_x_train = x_train[10000:]\n",
        "y_val = y_train[:10000]\n",
        "partial_y_train = y_train[10000: ]\n",
        "\n",
        "# 모델 훈련\n",
        "model.compile(optimizer='rmsprop', loss='binary_crossentropy', metrics=['acc'])\n",
        "history = model.fit(partial_x_train, partial_y_train,\n",
        "                    epochs = 20,\n",
        "                    batch_size = 512,\n",
        "                    validation_data = (x_val, y_val))"
      ],
      "metadata": {
        "colab": {
          "base_uri": "https://localhost:8080/"
        },
        "id": "vB7aaqaPUtbM",
        "outputId": "38c795ac-e9df-4e42-b2a7-30953f64e35e"
      },
      "execution_count": null,
      "outputs": [
        {
          "output_type": "stream",
          "name": "stdout",
          "text": [
            "Epoch 1/20\n",
            "30/30 [==============================] - 5s 38ms/step - loss: 0.4980 - acc: 0.7931 - val_loss: 0.4254 - val_acc: 0.8177\n",
            "Epoch 2/20\n",
            "30/30 [==============================] - 0s 16ms/step - loss: 0.2957 - acc: 0.9031 - val_loss: 0.2973 - val_acc: 0.8891\n",
            "Epoch 3/20\n",
            "30/30 [==============================] - 0s 16ms/step - loss: 0.2175 - acc: 0.9279 - val_loss: 0.2777 - val_acc: 0.8906\n",
            "Epoch 4/20\n",
            "30/30 [==============================] - 0s 15ms/step - loss: 0.1686 - acc: 0.9461 - val_loss: 0.2903 - val_acc: 0.8836\n",
            "Epoch 5/20\n",
            "30/30 [==============================] - 0s 16ms/step - loss: 0.1389 - acc: 0.9537 - val_loss: 0.2911 - val_acc: 0.8856\n",
            "Epoch 6/20\n",
            "30/30 [==============================] - 0s 16ms/step - loss: 0.1126 - acc: 0.9664 - val_loss: 0.3025 - val_acc: 0.8858\n",
            "Epoch 7/20\n",
            "30/30 [==============================] - 0s 16ms/step - loss: 0.0925 - acc: 0.9730 - val_loss: 0.4095 - val_acc: 0.8588\n",
            "Epoch 8/20\n",
            "30/30 [==============================] - 0s 16ms/step - loss: 0.0812 - acc: 0.9761 - val_loss: 0.3344 - val_acc: 0.8830\n",
            "Epoch 9/20\n",
            "30/30 [==============================] - 0s 16ms/step - loss: 0.0606 - acc: 0.9843 - val_loss: 0.3579 - val_acc: 0.8798\n",
            "Epoch 10/20\n",
            "30/30 [==============================] - 0s 16ms/step - loss: 0.0526 - acc: 0.9865 - val_loss: 0.4301 - val_acc: 0.8699\n",
            "Epoch 11/20\n",
            "30/30 [==============================] - 0s 16ms/step - loss: 0.0416 - acc: 0.9898 - val_loss: 0.4134 - val_acc: 0.8767\n",
            "Epoch 12/20\n",
            "30/30 [==============================] - 0s 16ms/step - loss: 0.0319 - acc: 0.9932 - val_loss: 0.4652 - val_acc: 0.8726\n",
            "Epoch 13/20\n",
            "30/30 [==============================] - 0s 15ms/step - loss: 0.0259 - acc: 0.9949 - val_loss: 0.4870 - val_acc: 0.8754\n",
            "Epoch 14/20\n",
            "30/30 [==============================] - 0s 16ms/step - loss: 0.0237 - acc: 0.9949 - val_loss: 0.5092 - val_acc: 0.8721\n",
            "Epoch 15/20\n",
            "30/30 [==============================] - 0s 15ms/step - loss: 0.0143 - acc: 0.9988 - val_loss: 0.5984 - val_acc: 0.8584\n",
            "Epoch 16/20\n",
            "30/30 [==============================] - 0s 17ms/step - loss: 0.0152 - acc: 0.9972 - val_loss: 0.5772 - val_acc: 0.8700\n",
            "Epoch 17/20\n",
            "30/30 [==============================] - 0s 16ms/step - loss: 0.0080 - acc: 0.9996 - val_loss: 0.6102 - val_acc: 0.8683\n",
            "Epoch 18/20\n",
            "30/30 [==============================] - 0s 16ms/step - loss: 0.0101 - acc: 0.9985 - val_loss: 0.6521 - val_acc: 0.8662\n",
            "Epoch 19/20\n",
            "30/30 [==============================] - 0s 15ms/step - loss: 0.0042 - acc: 0.9999 - val_loss: 0.7702 - val_acc: 0.8532\n",
            "Epoch 20/20\n",
            "30/30 [==============================] - 0s 15ms/step - loss: 0.0041 - acc: 0.9998 - val_loss: 0.8473 - val_acc: 0.8478\n"
          ]
        }
      ]
    },
    {
      "cell_type": "code",
      "source": [
        "# 훈련 검증 손실 그래프\n",
        "history_dict = history.history\n",
        "print(history_dict.keys())\n",
        "\n",
        "from matplotlib import pyplot as plt\n",
        "loss = history_dict['loss']\n",
        "val_loss = history_dict['val_loss']\n",
        "epochs = range(1, len(loss) +1 )\n",
        "plt.plot(epochs, loss, 'bo', label='Training loss')\n",
        "plt.plot(epochs, val_loss, 'b', label='Validation loss')\n",
        "plt.title('Training and validation loss')\n",
        "plt.xlabel('Epochs')\n",
        "plt.ylabel('Loss')\n",
        "plt.legend()\n",
        "plt.show()"
      ],
      "metadata": {
        "colab": {
          "base_uri": "https://localhost:8080/",
          "height": 312
        },
        "id": "kQ29pMebVJOK",
        "outputId": "d728007b-c84b-4791-b145-b90001e9864b"
      },
      "execution_count": null,
      "outputs": [
        {
          "output_type": "stream",
          "name": "stdout",
          "text": [
            "dict_keys(['loss', 'acc', 'val_loss', 'val_acc'])\n"
          ]
        },
        {
          "output_type": "display_data",
          "data": {
            "text/plain": [
              "<Figure size 432x288 with 1 Axes>"
            ],
            "image/png": "[encoded data removed]"
          },
          "metadata": {
            "needs_background": "light"
          }
        }
      ]
    },
    {
      "cell_type": "code",
      "source": [
        "plt.clf() #초기화\n",
        "acc = history_dict['acc']\n",
        "val_acc = history_dict['val_acc']\n",
        "epochs = range(1, len(loss) +1 )\n",
        "plt.plot(epochs, acc, 'bo', label='Training acc')\n",
        "plt.plot(epochs, val_acc, 'b', label='Validation acc')\n",
        "plt.title('Training and validation acc')\n",
        "plt.xlabel('Epochs')\n",
        "plt.ylabel('Acc')\n",
        "plt.legend()\n",
        "plt.show()\n",
        "\n",
        "# 과대적합 발생"
      ],
      "metadata": {
        "colab": {
          "base_uri": "https://localhost:8080/",
          "height": 295
        },
        "id": "z52uPMYqVuI2",
        "outputId": "44d95e54-6fc9-4ae0-e078-71e8b60bbbab"
      },
      "execution_count": null,
      "outputs": [
        {
          "output_type": "display_data",
          "data": {
            "text/plain": [
              "<Figure size 432x288 with 1 Axes>"
            ],
            "image/png": "[encoded data removed]"
          },
          "metadata": {
            "needs_background": "light"
          }
        }
      ]
    },
    {
      "cell_type": "code",
      "source": [
        "# 재하습\n",
        "model = models.Sequential()\n",
        "model.add(layers.Dense(16, activation='relu', input_shape=(10000,)))\n",
        "model.add(layers.Dense(16, activation='relu'))\n",
        "model.add(layers.Dense(1, activation = 'sigmoid'))\n",
        "model.compile(optimizer='rmsprop', loss='binary_crossentropy', metrics=['acc'])\n",
        "history = model.fit(x_train, y_train,\n",
        "                    epochs = 4,\n",
        "                    batch_size = 512,\n",
        "                    validation_data = (x_val, y_val))\n",
        "results = model.evaluate(x_test, y_test)\n",
        "print(results)"
      ],
      "metadata": {
        "colab": {
          "base_uri": "https://localhost:8080/"
        },
        "id": "SgRz9j3gW139",
        "outputId": "38d3a4cb-21ba-4181-a6b2-be69e7e1bed2"
      },
      "execution_count": null,
      "outputs": [
        {
          "output_type": "stream",
          "name": "stdout",
          "text": [
            "Epoch 1/4\n",
            "49/49 [==============================] - 2s 23ms/step - loss: 0.4689 - acc: 0.8265 - val_loss: 0.3067 - val_acc: 0.9066\n",
            "Epoch 2/4\n",
            "49/49 [==============================] - 1s 14ms/step - loss: 0.2703 - acc: 0.9060 - val_loss: 0.2086 - val_acc: 0.9340\n",
            "Epoch 3/4\n",
            "49/49 [==============================] - 1s 13ms/step - loss: 0.2085 - acc: 0.9264 - val_loss: 0.1719 - val_acc: 0.9437\n",
            "Epoch 4/4\n",
            "49/49 [==============================] - 1s 13ms/step - loss: 0.1733 - acc: 0.9384 - val_loss: 0.1390 - val_acc: 0.9573\n",
            "782/782 [==============================] - 2s 3ms/step - loss: 0.2898 - acc: 0.8858\n",
            "[0.2898241877555847, 0.8857600092887878]\n"
          ]
        }
      ]
    },
    {
      "cell_type": "code",
      "source": [
        "# 훈련 검증 손실 그래프\n",
        "history_dict = history.history\n",
        "print(history_dict.keys())\n",
        "\n",
        "from matplotlib import pyplot as plt\n",
        "loss = history_dict['loss']\n",
        "val_loss = history_dict['val_loss']\n",
        "epochs = range(1, len(loss) +1 )\n",
        "plt.plot(epochs, loss, 'bo', label='Training loss')\n",
        "plt.plot(epochs, val_loss, 'b', label='Validation loss')\n",
        "plt.title('Training and validation loss')\n",
        "plt.xlabel('Epochs')\n",
        "plt.ylabel('Loss')\n",
        "plt.legend()\n",
        "plt.show()"
      ],
      "metadata": {
        "colab": {
          "base_uri": "https://localhost:8080/",
          "height": 312
        },
        "id": "NybCAx_hYAQI",
        "outputId": "65b97b5c-97b0-47ec-c803-ef8e7e2ca0ec"
      },
      "execution_count": null,
      "outputs": [
        {
          "output_type": "stream",
          "name": "stdout",
          "text": [
            "dict_keys(['loss', 'acc', 'val_loss', 'val_acc'])\n"
          ]
        },
        {
          "output_type": "display_data",
          "data": {
            "text/plain": [
              "<Figure size 432x288 with 1 Axes>"
            ],
            "image/png": "[encoded data removed]"
          },
          "metadata": {
            "needs_background": "light"
          }
        }
      ]
    },
    {
      "cell_type": "code",
      "source": [
        "plt.clf() #초기화\n",
        "acc = history_dict['acc']\n",
        "val_acc = history_dict['val_acc']\n",
        "epochs = range(1, len(loss) +1 )\n",
        "plt.plot(epochs, acc, 'bo', label='Training acc')\n",
        "plt.plot(epochs, val_acc, 'b', label='Validation acc')\n",
        "plt.title('Training and validation acc')\n",
        "plt.xlabel('Epochs')\n",
        "plt.ylabel('Acc')\n",
        "plt.legend()\n",
        "plt.show()\n",
        "\n",
        "# 과대적합 발생"
      ],
      "metadata": {
        "colab": {
          "base_uri": "https://localhost:8080/",
          "height": 295
        },
        "id": "Wx5DS8bwYc-o",
        "outputId": "adabe40e-5bdc-46a0-999c-9f1b1dcaf1ad"
      },
      "execution_count": null,
      "outputs": [
        {
          "output_type": "display_data",
          "data": {
            "text/plain": [
              "<Figure size 432x288 with 1 Axes>"
            ],
            "image/png": "[encoded data removed]"
          },
          "metadata": {
            "needs_background": "light"
          }
        }
      ]
    },
    {
      "cell_type": "markdown",
      "source": [
        "### 훈련된 모델로 새로운 데이터에 대해 예측"
      ],
      "metadata": {
        "id": "Ey4MLSbhYe1Z"
      }
    },
    {
      "cell_type": "code",
      "source": [
        "model.predict(x_test)"
      ],
      "metadata": {
        "colab": {
          "base_uri": "https://localhost:8080/"
        },
        "id": "a7_fdpLYYjQt",
        "outputId": "e93d0a2b-14c2-4ccc-e44f-ba8d9abd436c"
      },
      "execution_count": null,
      "outputs": [
        {
          "output_type": "execute_result",
          "data": {
            "text/plain": [
              "array([[0.23048905],\n",
              "       [0.99991596],\n",
              "       [0.7433797 ],\n",
              "       ...,\n",
              "       [0.10103265],\n",
              "       [0.06925239],\n",
              "       [0.58078676]], dtype=float32)"
            ]
          },
          "metadata": {},
          "execution_count": 25
        }
      ]
    },
    {
      "cell_type": "markdown",
      "source": [
        "# 정리\n",
        "\n",
        "    - 원본 데이터를 신경망에 텥서로 주입하기 위해서는 꽤 많은 전처리가 필요함. \n",
        "    - 단어 시퀀스는 이진 벡터로 인코딩될 수 있고 다른 인코딩 방식또한 존재함.\n",
        "    - 출력 클래스가 2개인 이진 분류 문제에서 네트워크는 하나의 유닛과 sigmoid 활성화 함수를 가진 Dense 층으로 끝나야됨.\n",
        "    - 이 신경망의 출력은 확률을 나타내는 0과 1 사이의 스칼라.\n",
        "    - 이진 분류 문제에서 이런 스칼라 시그모이드 출력에 대해 사용할 손실 함수는 binary_crossentropy.\n",
        "    - rmsprop 옵티마이저는 범용적인 옵티마이저.\n",
        "    - 훈련 데이터에 대해 성능이 향삼됨에 따라 신경망은 과대적합이 되기 쉬움. < 훈련 세트 이외의 데이터에서 성능을 모니터링 해야됨 >"
      ],
      "metadata": {
        "id": "83WfMpmMYvOW"
      }
    },
    {
      "cell_type": "markdown",
      "source": [
        "# 뉴스 기사 분류 : 다중 분류 문제\n"
      ],
      "metadata": {
        "id": "aHJS_BujZbZf"
      }
    },
    {
      "cell_type": "markdown",
      "source": [
        "### 로이터 데이터셋\n",
        "\n",
        "    - 46개의 토픽이 있음. 각 토픽은 훈련 세트에 최소 10개의 샘플을 보유"
      ],
      "metadata": {
        "id": "YB-Mils0Z4wc"
      }
    },
    {
      "cell_type": "code",
      "source": [
        "from tensorflow.keras.datasets import reuters\n",
        "(train_data, train_labels), (test_data, test_labels) = reuters.load_data(num_words = 10000)\n",
        "\n",
        "print(len(train_data))\n",
        "print(len(test_data))"
      ],
      "metadata": {
        "colab": {
          "base_uri": "https://localhost:8080/"
        },
        "id": "ySagErQBaE-C",
        "outputId": "77b56a16-b553-4036-ee29-1a13752f98fb"
      },
      "execution_count": null,
      "outputs": [
        {
          "output_type": "stream",
          "name": "stdout",
          "text": [
            "Downloading data from https://storage.googleapis.com/tensorflow/tf-keras-datasets/reuters.npz\n",
            "2113536/2110848 [==============================] - 0s 0us/step\n",
            "2121728/2110848 [==============================] - 0s 0us/step\n",
            "8982\n",
            "2246\n"
          ]
        }
      ]
    },
    {
      "cell_type": "code",
      "source": [
        "# 텍스트 디코딩\n",
        "word_index = reuters.get_word_index()\n",
        "reverse_word_index = dict([(value,key) for (key,value) in word_index.items()])\n",
        "decoded_newswire = ' '.join([reverse_word_index.get(i-3,'?') for i in train_data[0]])\n",
        "print(train_labels[10])"
      ],
      "metadata": {
        "colab": {
          "base_uri": "https://localhost:8080/"
        },
        "id": "vnXrT9h2aKQW",
        "outputId": "8b97cf6e-f58a-442b-8d88-b45eda2a9d41"
      },
      "execution_count": null,
      "outputs": [
        {
          "output_type": "stream",
          "name": "stdout",
          "text": [
            "Downloading data from https://storage.googleapis.com/tensorflow/tf-keras-datasets/reuters_word_index.json\n",
            "557056/550378 [==============================] - 0s 0us/step\n",
            "565248/550378 [==============================] - 0s 0us/step\n",
            "3\n"
          ]
        }
      ]
    },
    {
      "cell_type": "markdown",
      "source": [
        "### data 준비"
      ],
      "metadata": {
        "id": "DRQvwI-2bUFN"
      }
    },
    {
      "cell_type": "code",
      "source": [
        "import numpy as np\n",
        "def vectorize_sequence(sequences, dimension=10000):\n",
        "    results = np.zeros( (len(sequences), dimension) ) # 크기가 (len(sequences), dimension), 모든 원소가 0 (np.zeros)\n",
        "    for i, sequence in enumerate(sequences):\n",
        "        results[i, sequence] = 1. # results[i]에서 특정 인덱스의 위치를 1로 만듦\n",
        "    return results\n",
        "\n",
        "x_train = vectorize_sequence(train_data)\n",
        "x_test = vectorize_sequence(test_data)\n",
        "\n",
        "print(x_train[0])\n",
        "\n",
        "# 레이블 변환\n",
        "y_train = np.asarray(train_labels).astype('float32')\n",
        "y_test = np.asarray(test_labels).astype('float32')\n"
      ],
      "metadata": {
        "colab": {
          "base_uri": "https://localhost:8080/"
        },
        "id": "Fu0PMqvabY2c",
        "outputId": "0bcaf446-0f4a-4f4d-830a-a04696e1996e"
      },
      "execution_count": null,
      "outputs": [
        {
          "output_type": "stream",
          "name": "stdout",
          "text": [
            "[0. 1. 1. ... 0. 0. 0.]\n"
          ]
        }
      ]
    },
    {
      "cell_type": "markdown",
      "source": [
        "* 원-핫 인코딩\n",
        "\n",
        "\n",
        "```\n",
        "def to_one_hot(labels, dimension=46):\n",
        "    results = np.zeros( (len(labels), dimension) )\n",
        "    for i, label in enumerate(labels):\n",
        "        results[i, label] = 1.\n",
        "    retrun results\n",
        "\n",
        "one_hot_train_labels = to_one_hot(train_labels)\n",
        "one_hot_test_labels = to_one_hot(test_labels)    \n",
        "```\n",
        "        - 케라스에는 to_categorical 내장 함수가 있음\n"
      ],
      "metadata": {
        "id": "EdgMuLGjblDl"
      }
    },
    {
      "cell_type": "code",
      "source": [
        "from tensorflow.keras.utils import to_categorical\n",
        "one_hot_train_labels = to_categorical(train_labels)\n",
        "one_hot_test_labels = to_categorical(test_labels)"
      ],
      "metadata": {
        "id": "KLA4_M6CcSg0"
      },
      "execution_count": null,
      "outputs": []
    },
    {
      "cell_type": "markdown",
      "source": [
        "### 모델 구성"
      ],
      "metadata": {
        "id": "il6QsnsVcXJS"
      }
    },
    {
      "cell_type": "code",
      "source": [
        "from tensorflow import keras\n",
        "keras.__version__"
      ],
      "metadata": {
        "colab": {
          "base_uri": "https://localhost:8080/",
          "height": 36
        },
        "id": "hSTQRrUreujR",
        "outputId": "6f9f1c56-bfa1-4f94-bbdc-291ab4c4ce2b"
      },
      "execution_count": null,
      "outputs": [
        {
          "output_type": "execute_result",
          "data": {
            "text/plain": [
              "'2.8.0'"
            ],
            "application/vnd.google.colaboratory.intrinsic+json": {
              "type": "string"
            }
          },
          "metadata": {},
          "execution_count": 6
        }
      ]
    },
    {
      "cell_type": "code",
      "source": [
        "from tensorflow.keras import models\n",
        "from tensorflow.keras import layers\n",
        "from tensorflow.keras import optimizers\n",
        "from tensorflow.keras import losses\n",
        "from tensorflow.keras import metrics\n",
        "from tensorflow.keras import activations\n",
        "\n",
        "model = models.Sequential()\n",
        "model.add(layers.Dense(64, activation='relu', input_shape=(10000,)))\n",
        "model.add(layers.Dense(64, activation='relu'))\n",
        "model.add(layers.Dense(46, activation='softmax'))\n",
        "model.compile(optimizer = 'rmsprop', loss='categorical_crossentropy', metrics=['accuracy'])"
      ],
      "metadata": {
        "id": "9xmZzxHEc_o6"
      },
      "execution_count": null,
      "outputs": []
    },
    {
      "cell_type": "markdown",
      "source": [
        "### 훈련 검증"
      ],
      "metadata": {
        "id": "HuMWxefHiGSm"
      }
    },
    {
      "cell_type": "code",
      "source": [
        "x_val = x_train[:1000]\n",
        "partial_x_train = x_train[1000:]\n",
        "y_val = one_hot_train_labels[:1000]\n",
        "partial_y_train = one_hot_train_labels[1000: ]\n",
        "\n",
        "# 모델 훈련\n",
        "history = model.fit(partial_x_train, partial_y_train,\n",
        "                    epochs = 20,\n",
        "                    batch_size = 512,\n",
        "                    validation_data = (x_val, y_val))\n",
        "\n",
        "# 훈련 검증 손실 그래프\n",
        "history_dict = history.history\n",
        "print(history_dict.keys())\n",
        "\n",
        "from matplotlib import pyplot as plt\n",
        "loss = history_dict['loss']\n",
        "val_loss = history_dict['val_loss']\n",
        "epochs = range(1, len(loss) +1 )\n",
        "plt.plot(epochs, loss, 'bo', label='Training loss')\n",
        "plt.plot(epochs, val_loss, 'b', label='Validation loss')\n",
        "plt.title('Training and validation loss')\n",
        "plt.xlabel('Epochs')\n",
        "plt.ylabel('Loss')\n",
        "plt.legend()\n",
        "plt.show()\n",
        "\n",
        "plt.clf() #초기화\n",
        "acc = history_dict['accuracy']\n",
        "val_acc = history_dict['val_accuracy']\n",
        "epochs = range(1, len(loss) +1 )\n",
        "plt.plot(epochs, acc, 'bo', label='Training acc')\n",
        "plt.plot(epochs, val_acc, 'b', label='Validation acc')\n",
        "plt.title('Training and validation acc')\n",
        "plt.xlabel('Epochs')\n",
        "plt.ylabel('Acc')\n",
        "plt.legend()\n",
        "plt.show()\n",
        "\n",
        "# 과대적합 발생"
      ],
      "metadata": {
        "id": "7kuyi87aiyxZ",
        "outputId": "68dd9015-67ef-43b2-8d66-64c7d9262866",
        "colab": {
          "base_uri": "https://localhost:8080/",
          "height": 1000
        }
      },
      "execution_count": null,
      "outputs": [
        {
          "output_type": "stream",
          "name": "stdout",
          "text": [
            "Epoch 1/20\n",
            "16/16 [==============================] - 4s 30ms/step - loss: 2.5334 - accuracy: 0.5263 - val_loss: 1.6808 - val_accuracy: 0.6370\n",
            "Epoch 2/20\n",
            "16/16 [==============================] - 0s 13ms/step - loss: 1.3756 - accuracy: 0.7147 - val_loss: 1.2837 - val_accuracy: 0.7210\n",
            "Epoch 3/20\n",
            "16/16 [==============================] - 0s 14ms/step - loss: 1.0224 - accuracy: 0.7869 - val_loss: 1.1138 - val_accuracy: 0.7580\n",
            "Epoch 4/20\n",
            "16/16 [==============================] - 0s 13ms/step - loss: 0.7975 - accuracy: 0.8344 - val_loss: 1.0134 - val_accuracy: 0.7900\n",
            "Epoch 5/20\n",
            "16/16 [==============================] - 0s 13ms/step - loss: 0.6334 - accuracy: 0.8676 - val_loss: 0.9529 - val_accuracy: 0.7990\n",
            "Epoch 6/20\n",
            "16/16 [==============================] - 0s 14ms/step - loss: 0.5049 - accuracy: 0.8923 - val_loss: 0.9129 - val_accuracy: 0.8160\n",
            "Epoch 7/20\n",
            "16/16 [==============================] - 0s 14ms/step - loss: 0.4064 - accuracy: 0.9159 - val_loss: 0.8709 - val_accuracy: 0.8190\n",
            "Epoch 8/20\n",
            "16/16 [==============================] - 0s 14ms/step - loss: 0.3260 - accuracy: 0.9316 - val_loss: 0.8923 - val_accuracy: 0.8160\n",
            "Epoch 9/20\n",
            "16/16 [==============================] - 0s 15ms/step - loss: 0.2725 - accuracy: 0.9404 - val_loss: 0.9193 - val_accuracy: 0.8050\n",
            "Epoch 10/20\n",
            "16/16 [==============================] - 0s 13ms/step - loss: 0.2298 - accuracy: 0.9474 - val_loss: 0.8748 - val_accuracy: 0.8210\n",
            "Epoch 11/20\n",
            "16/16 [==============================] - 0s 14ms/step - loss: 0.1953 - accuracy: 0.9513 - val_loss: 0.9197 - val_accuracy: 0.8080\n",
            "Epoch 12/20\n",
            "16/16 [==============================] - 0s 14ms/step - loss: 0.1769 - accuracy: 0.9533 - val_loss: 0.8985 - val_accuracy: 0.8190\n",
            "Epoch 13/20\n",
            "16/16 [==============================] - 0s 14ms/step - loss: 0.1559 - accuracy: 0.9546 - val_loss: 0.9319 - val_accuracy: 0.8100\n",
            "Epoch 14/20\n",
            "16/16 [==============================] - 0s 14ms/step - loss: 0.1464 - accuracy: 0.9544 - val_loss: 0.9265 - val_accuracy: 0.8210\n",
            "Epoch 15/20\n",
            "16/16 [==============================] - 0s 14ms/step - loss: 0.1366 - accuracy: 0.9557 - val_loss: 1.0231 - val_accuracy: 0.8130\n",
            "Epoch 16/20\n",
            "16/16 [==============================] - 0s 14ms/step - loss: 0.1274 - accuracy: 0.9567 - val_loss: 0.9974 - val_accuracy: 0.8060\n",
            "Epoch 17/20\n",
            "16/16 [==============================] - 0s 14ms/step - loss: 0.1218 - accuracy: 0.9588 - val_loss: 1.0918 - val_accuracy: 0.7940\n",
            "Epoch 18/20\n",
            "16/16 [==============================] - 0s 14ms/step - loss: 0.1171 - accuracy: 0.9578 - val_loss: 1.0304 - val_accuracy: 0.8080\n",
            "Epoch 19/20\n",
            "16/16 [==============================] - 0s 14ms/step - loss: 0.1183 - accuracy: 0.9580 - val_loss: 1.1267 - val_accuracy: 0.7890\n",
            "Epoch 20/20\n",
            "16/16 [==============================] - 0s 13ms/step - loss: 0.1108 - accuracy: 0.9577 - val_loss: 1.1475 - val_accuracy: 0.7880\n",
            "dict_keys(['loss', 'accuracy', 'val_loss', 'val_accuracy'])\n"
          ]
        },
        {
          "output_type": "display_data",
          "data": {
            "text/plain": [
              "<Figure size 432x288 with 1 Axes>"
            ],
            "image/png": "[encoded data removed]"
          },
          "metadata": {
            "needs_background": "light"
          }
        },
        {
          "output_type": "display_data",
          "data": {
            "text/plain": [
              "<Figure size 432x288 with 1 Axes>"
            ],
            "image/png": "[encoded data removed]"
          },
          "metadata": {
            "needs_background": "light"
          }
        }
      ]
    },
    {
      "cell_type": "code",
      "source": [
        "# 재하습\n",
        "model = models.Sequential()\n",
        "model.add(layers.Dense(64, activation='relu', input_shape=(10000,)))\n",
        "model.add(layers.Dense(64, activation='relu'))\n",
        "model.add(layers.Dense(46, activation = 'softmax'))\n",
        "model.compile(optimizer='rmsprop', loss='categorical_crossentropy', metrics=['accuracy'])\n",
        "history = model.fit(partial_x_train, partial_y_train,\n",
        "                    epochs = 9,\n",
        "                    batch_size = 512,\n",
        "                    validation_data = (x_val, y_val))\n",
        "results = model.evaluate(x_test, one_hot_test_labels)\n",
        "print(results)"
      ],
      "metadata": {
        "id": "0zmUbhzDjHyg",
        "outputId": "2685e703-38d4-4514-b0b7-3946c03a188d",
        "colab": {
          "base_uri": "https://localhost:8080/"
        }
      },
      "execution_count": null,
      "outputs": [
        {
          "output_type": "stream",
          "name": "stdout",
          "text": [
            "Epoch 1/9\n",
            "16/16 [==============================] - 1s 26ms/step - loss: 2.8197 - accuracy: 0.4800 - val_loss: 1.8701 - val_accuracy: 0.6280\n",
            "Epoch 2/9\n",
            "16/16 [==============================] - 0s 14ms/step - loss: 1.4938 - accuracy: 0.6992 - val_loss: 1.3330 - val_accuracy: 0.7080\n",
            "Epoch 3/9\n",
            "16/16 [==============================] - 0s 14ms/step - loss: 1.0903 - accuracy: 0.7719 - val_loss: 1.1558 - val_accuracy: 0.7550\n",
            "Epoch 4/9\n",
            "16/16 [==============================] - 0s 13ms/step - loss: 0.8642 - accuracy: 0.8153 - val_loss: 1.0482 - val_accuracy: 0.7730\n",
            "Epoch 5/9\n",
            "16/16 [==============================] - 0s 15ms/step - loss: 0.6880 - accuracy: 0.8540 - val_loss: 0.9788 - val_accuracy: 0.8010\n",
            "Epoch 6/9\n",
            "16/16 [==============================] - 0s 14ms/step - loss: 0.5520 - accuracy: 0.8831 - val_loss: 0.9469 - val_accuracy: 0.8070\n",
            "Epoch 7/9\n",
            "16/16 [==============================] - 0s 13ms/step - loss: 0.4431 - accuracy: 0.9068 - val_loss: 0.9385 - val_accuracy: 0.8100\n",
            "Epoch 8/9\n",
            "16/16 [==============================] - 0s 13ms/step - loss: 0.3570 - accuracy: 0.9258 - val_loss: 0.9141 - val_accuracy: 0.8080\n",
            "Epoch 9/9\n",
            "16/16 [==============================] - 0s 13ms/step - loss: 0.2968 - accuracy: 0.9361 - val_loss: 0.9346 - val_accuracy: 0.8120\n",
            "71/71 [==============================] - 0s 3ms/step - loss: 1.0075 - accuracy: 0.7845\n",
            "[1.0074779987335205, 0.7845057845115662]\n"
          ]
        }
      ]
    },
    {
      "cell_type": "markdown",
      "source": [
        "### 새로운 데이터에 대해 예측하기"
      ],
      "metadata": {
        "id": "nFKcfx7akbaY"
      }
    },
    {
      "cell_type": "code",
      "source": [
        "prediction = model.predict(x_test)\n",
        "print(prediction[0].shape) # predictions의 각 항목은 길이가 46인 벡터\n",
        "print(np.sum(prediction[0])) # 벡터의 원소 합 == 1\n",
        "print(np.argmax(prediction[0])) # 가장 큰 값이 예측 클래스\n"
      ],
      "metadata": {
        "id": "L2Q9nKKhT2y6",
        "outputId": "9a72f0c9-387d-4bb4-f740-6639a52595f0",
        "colab": {
          "base_uri": "https://localhost:8080/"
        }
      },
      "execution_count": null,
      "outputs": [
        {
          "output_type": "stream",
          "name": "stdout",
          "text": [
            "(46,)\n",
            "1.0000001\n",
            "3\n"
          ]
        }
      ]
    },
    {
      "cell_type": "markdown",
      "source": [
        "### 레이블과 손실을 다루는 다른 방법\n",
        "\n",
        "    레이블을 인코딩 하는 다른 방법 > 정수 텐서로 변환"
      ],
      "metadata": {
        "id": "5_d2CliuT4SL"
      }
    },
    {
      "cell_type": "code",
      "source": [
        "y_train = np.array(train_labels)\n",
        "y_test = np.array(test_labels)\n",
        "\n",
        "# 이 방식을 사용하려면 손실 함수 하나만 변환. >> sparse_categorical_crossentropy\n",
        "model.compile(optimizer = 'rmsprop', loss = 'sparse_categorical_crossentropy', metrics=['acc']) # 수학적으로는 categorical_crossentropy 와 동일하다."
      ],
      "metadata": {
        "id": "zh1ZTjk9UTyt"
      },
      "execution_count": null,
      "outputs": []
    },
    {
      "cell_type": "markdown",
      "source": [
        "# 충분히 큰 중간층을 두어야 하는 이유\n",
        "\n",
        "    병목 현상을 방지해야된다."
      ],
      "metadata": {
        "id": "68r9NQHEUvA9"
      }
    },
    {
      "cell_type": "code",
      "source": [
        "model = models.Sequential()\n",
        "model.add(layers.Dense(64, activation = 'relu', input_shape = (10000,)))\n",
        "model.add(layers.Dense(4, activation = 'relu'))\n",
        "model.add(layers.Dense(46, activation = 'softmax'))\n",
        "model.compile(optimizer = 'rmsprop', loss = 'categorical_crossentropy',metrics=['acc'])\n",
        "model.fit(partial_x_train, partial_y_train, epochs = 20, batch_size =128, validation_data=(x_val, y_val))"
      ],
      "metadata": {
        "id": "O8RgWyHoUyCm",
        "outputId": "fe8e3a0f-2cfc-4c0a-8e59-fb022de7649e",
        "colab": {
          "base_uri": "https://localhost:8080/"
        }
      },
      "execution_count": null,
      "outputs": [
        {
          "output_type": "stream",
          "name": "stdout",
          "text": [
            "Epoch 1/20\n",
            "63/63 [==============================] - 1s 9ms/step - loss: 2.9627 - acc: 0.2214 - val_loss: 2.2871 - val_acc: 0.2860\n",
            "Epoch 2/20\n",
            "63/63 [==============================] - 0s 6ms/step - loss: 1.8386 - acc: 0.5348 - val_loss: 1.5985 - val_acc: 0.6410\n",
            "Epoch 3/20\n",
            "63/63 [==============================] - 0s 6ms/step - loss: 1.3546 - acc: 0.6557 - val_loss: 1.4362 - val_acc: 0.6540\n",
            "Epoch 4/20\n",
            "63/63 [==============================] - 0s 6ms/step - loss: 1.1695 - acc: 0.6842 - val_loss: 1.3755 - val_acc: 0.6610\n",
            "Epoch 5/20\n",
            "63/63 [==============================] - 0s 6ms/step - loss: 1.0460 - acc: 0.7214 - val_loss: 1.3364 - val_acc: 0.6980\n",
            "Epoch 6/20\n",
            "63/63 [==============================] - 0s 6ms/step - loss: 0.9454 - acc: 0.7626 - val_loss: 1.3517 - val_acc: 0.7030\n",
            "Epoch 7/20\n",
            "63/63 [==============================] - 0s 6ms/step - loss: 0.8612 - acc: 0.7835 - val_loss: 1.3214 - val_acc: 0.7100\n",
            "Epoch 8/20\n",
            "63/63 [==============================] - 0s 7ms/step - loss: 0.7915 - acc: 0.7948 - val_loss: 1.3342 - val_acc: 0.7200\n",
            "Epoch 9/20\n",
            "63/63 [==============================] - 0s 7ms/step - loss: 0.7296 - acc: 0.8076 - val_loss: 1.3773 - val_acc: 0.7160\n",
            "Epoch 10/20\n",
            "63/63 [==============================] - 0s 6ms/step - loss: 0.6790 - acc: 0.8212 - val_loss: 1.3864 - val_acc: 0.7210\n",
            "Epoch 11/20\n",
            "63/63 [==============================] - 0s 6ms/step - loss: 0.6346 - acc: 0.8329 - val_loss: 1.4080 - val_acc: 0.7320\n",
            "Epoch 12/20\n",
            "63/63 [==============================] - 0s 6ms/step - loss: 0.5973 - acc: 0.8416 - val_loss: 1.4526 - val_acc: 0.7320\n",
            "Epoch 13/20\n",
            "63/63 [==============================] - 0s 6ms/step - loss: 0.5640 - acc: 0.8487 - val_loss: 1.4710 - val_acc: 0.7210\n",
            "Epoch 14/20\n",
            "63/63 [==============================] - 0s 6ms/step - loss: 0.5329 - acc: 0.8566 - val_loss: 1.5185 - val_acc: 0.7230\n",
            "Epoch 15/20\n",
            "63/63 [==============================] - 0s 6ms/step - loss: 0.5087 - acc: 0.8633 - val_loss: 1.5648 - val_acc: 0.7210\n",
            "Epoch 16/20\n",
            "63/63 [==============================] - 0s 6ms/step - loss: 0.4861 - acc: 0.8672 - val_loss: 1.5849 - val_acc: 0.7240\n",
            "Epoch 17/20\n",
            "63/63 [==============================] - 0s 6ms/step - loss: 0.4631 - acc: 0.8720 - val_loss: 1.6696 - val_acc: 0.7140\n",
            "Epoch 18/20\n",
            "63/63 [==============================] - 0s 6ms/step - loss: 0.4460 - acc: 0.8748 - val_loss: 1.7376 - val_acc: 0.7150\n",
            "Epoch 19/20\n",
            "63/63 [==============================] - 0s 6ms/step - loss: 0.4281 - acc: 0.8767 - val_loss: 1.7536 - val_acc: 0.7150\n",
            "Epoch 20/20\n",
            "63/63 [==============================] - 0s 6ms/step - loss: 0.4163 - acc: 0.8780 - val_loss: 1.8480 - val_acc: 0.7100\n"
          ]
        },
        {
          "output_type": "execute_result",
          "data": {
            "text/plain": [
              "<keras.callbacks.History at 0x7fc6d48cead0>"
            ]
          },
          "metadata": {},
          "execution_count": 18
        }
      ]
    },
    {
      "cell_type": "markdown",
      "source": [
        "### 정리\n",
        "\n",
        "    N개의 클래스로 데이터 포인트를 분류하려면 네트워크의 마지막 Dense층의 크기는 N 이여만 한다.\n",
        "    단일 레이블, 다중 분류 문제에서는 N개의 클래스에 대한 확률 분포를 출력하기 위해 softmax활성화 함수를 사용해야 된다.\n",
        "    이런 문제에는 항상 범주형 크로스엔트로피를 사용해야 한다. 이 함수는 모델이 출력한 확률 분포와 타깃 분포 사이의 거리를 최소화 함\n",
        "    다중 분류에서 레이블을 다루는 두 가지 방법\n",
        "        - 레이블을 범주형 인코딩 ( one-hot ) > categorical_crossentropy\n",
        "        - 레이블을 정수형 인코딩 > sparce_categorical_crossentropy\n",
        "    많은 수의 범주를 분류할 때 중간층의 크기가 너무 작아 네트워크에 정보의 병목이 생기지 않도록 해야 함."
      ],
      "metadata": {
        "id": "G7-Qmc-uVyIT"
      }
    },
    {
      "cell_type": "markdown",
      "source": [
        "# 주택 가격 예측 : 회귀 문제"
      ],
      "metadata": {
        "id": "IwIHTCguWfto"
      }
    },
    {
      "cell_type": "markdown",
      "source": [
        "### 보스턴 주택 가격 데이터셋\n",
        "\n",
        "    - 데이터 포인트 506개.\n",
        "    - 404 train, 102 test\n",
        "    - scale difference\n"
      ],
      "metadata": {
        "id": "W_dfoqEafdw4"
      }
    },
    {
      "cell_type": "code",
      "source": [
        "from tensorflow.keras.datasets import boston_housing\n",
        "(train_data, train_targets), (test_data, test_targets) = boston_housing.load_data()\n",
        "\n",
        "print(train_data.shape)\n",
        "print(test_data.shape)\n",
        "\n",
        "# 13개의 수치 특성이 있음. 1인당 범죄율, 주택당 평균 방의 가수, 고속도로 접근성 등을 의미함.\n",
        "train_targets"
      ],
      "metadata": {
        "id": "fvRfR8Dff7mF",
        "outputId": "7050a07e-c970-44da-f5cb-106991e392a8",
        "colab": {
          "base_uri": "https://localhost:8080/"
        }
      },
      "execution_count": 1,
      "outputs": [
        {
          "output_type": "stream",
          "name": "stdout",
          "text": [
            "Downloading data from https://storage.googleapis.com/tensorflow/tf-keras-datasets/boston_housing.npz\n",
            "57344/57026 [==============================] - 0s 0us/step\n",
            "65536/57026 [==================================] - 0s 0us/step\n",
            "(404, 13)\n",
            "(102, 13)\n"
          ]
        },
        {
          "output_type": "execute_result",
          "data": {
            "text/plain": [
              "array([15.2, 42.3, 50. , 21.1, 17.7, 18.5, 11.3, 15.6, 15.6, 14.4, 12.1,\n",
              "       17.9, 23.1, 19.9, 15.7,  8.8, 50. , 22.5, 24.1, 27.5, 10.9, 30.8,\n",
              "       32.9, 24. , 18.5, 13.3, 22.9, 34.7, 16.6, 17.5, 22.3, 16.1, 14.9,\n",
              "       23.1, 34.9, 25. , 13.9, 13.1, 20.4, 20. , 15.2, 24.7, 22.2, 16.7,\n",
              "       12.7, 15.6, 18.4, 21. , 30.1, 15.1, 18.7,  9.6, 31.5, 24.8, 19.1,\n",
              "       22. , 14.5, 11. , 32. , 29.4, 20.3, 24.4, 14.6, 19.5, 14.1, 14.3,\n",
              "       15.6, 10.5,  6.3, 19.3, 19.3, 13.4, 36.4, 17.8, 13.5, 16.5,  8.3,\n",
              "       14.3, 16. , 13.4, 28.6, 43.5, 20.2, 22. , 23. , 20.7, 12.5, 48.5,\n",
              "       14.6, 13.4, 23.7, 50. , 21.7, 39.8, 38.7, 22.2, 34.9, 22.5, 31.1,\n",
              "       28.7, 46. , 41.7, 21. , 26.6, 15. , 24.4, 13.3, 21.2, 11.7, 21.7,\n",
              "       19.4, 50. , 22.8, 19.7, 24.7, 36.2, 14.2, 18.9, 18.3, 20.6, 24.6,\n",
              "       18.2,  8.7, 44. , 10.4, 13.2, 21.2, 37. , 30.7, 22.9, 20. , 19.3,\n",
              "       31.7, 32. , 23.1, 18.8, 10.9, 50. , 19.6,  5. , 14.4, 19.8, 13.8,\n",
              "       19.6, 23.9, 24.5, 25. , 19.9, 17.2, 24.6, 13.5, 26.6, 21.4, 11.9,\n",
              "       22.6, 19.6,  8.5, 23.7, 23.1, 22.4, 20.5, 23.6, 18.4, 35.2, 23.1,\n",
              "       27.9, 20.6, 23.7, 28. , 13.6, 27.1, 23.6, 20.6, 18.2, 21.7, 17.1,\n",
              "        8.4, 25.3, 13.8, 22.2, 18.4, 20.7, 31.6, 30.5, 20.3,  8.8, 19.2,\n",
              "       19.4, 23.1, 23. , 14.8, 48.8, 22.6, 33.4, 21.1, 13.6, 32.2, 13.1,\n",
              "       23.4, 18.9, 23.9, 11.8, 23.3, 22.8, 19.6, 16.7, 13.4, 22.2, 20.4,\n",
              "       21.8, 26.4, 14.9, 24.1, 23.8, 12.3, 29.1, 21. , 19.5, 23.3, 23.8,\n",
              "       17.8, 11.5, 21.7, 19.9, 25. , 33.4, 28.5, 21.4, 24.3, 27.5, 33.1,\n",
              "       16.2, 23.3, 48.3, 22.9, 22.8, 13.1, 12.7, 22.6, 15. , 15.3, 10.5,\n",
              "       24. , 18.5, 21.7, 19.5, 33.2, 23.2,  5. , 19.1, 12.7, 22.3, 10.2,\n",
              "       13.9, 16.3, 17. , 20.1, 29.9, 17.2, 37.3, 45.4, 17.8, 23.2, 29. ,\n",
              "       22. , 18. , 17.4, 34.6, 20.1, 25. , 15.6, 24.8, 28.2, 21.2, 21.4,\n",
              "       23.8, 31. , 26.2, 17.4, 37.9, 17.5, 20. ,  8.3, 23.9,  8.4, 13.8,\n",
              "        7.2, 11.7, 17.1, 21.6, 50. , 16.1, 20.4, 20.6, 21.4, 20.6, 36.5,\n",
              "        8.5, 24.8, 10.8, 21.9, 17.3, 18.9, 36.2, 14.9, 18.2, 33.3, 21.8,\n",
              "       19.7, 31.6, 24.8, 19.4, 22.8,  7.5, 44.8, 16.8, 18.7, 50. , 50. ,\n",
              "       19.5, 20.1, 50. , 17.2, 20.8, 19.3, 41.3, 20.4, 20.5, 13.8, 16.5,\n",
              "       23.9, 20.6, 31.5, 23.3, 16.8, 14. , 33.8, 36.1, 12.8, 18.3, 18.7,\n",
              "       19.1, 29. , 30.1, 50. , 50. , 22. , 11.9, 37.6, 50. , 22.7, 20.8,\n",
              "       23.5, 27.9, 50. , 19.3, 23.9, 22.6, 15.2, 21.7, 19.2, 43.8, 20.3,\n",
              "       33.2, 19.9, 22.5, 32.7, 22. , 17.1, 19. , 15. , 16.1, 25.1, 23.7,\n",
              "       28.7, 37.2, 22.6, 16.4, 25. , 29.8, 22.1, 17.4, 18.1, 30.3, 17.5,\n",
              "       24.7, 12.6, 26.5, 28.7, 13.3, 10.4, 24.4, 23. , 20. , 17.8,  7. ,\n",
              "       11.8, 24.4, 13.8, 19.4, 25.2, 19.4, 19.4, 29.1])"
            ]
          },
          "metadata": {},
          "execution_count": 1
        }
      ]
    },
    {
      "cell_type": "markdown",
      "source": [
        "### data 준비\n",
        "\n",
        "    - 상이한 스케일을 가진 값을 신경망에 주입하면 문제가 됨.\n",
        "    - 이런 데이터를 다룰 때는 정규화를 하는 것이 좋다.\n",
        "    - 입력 데이터에 있는 각 특성에 대해서 특성의 평균을 빼고 표준 편차로 나눈다.\n",
        "    - 특성의 중앙이 0 근처에 맞추어지고 표준 편차가 1이 됨. (넘파이로 하면 편함)"
      ],
      "metadata": {
        "id": "e4gNdAdFgME-"
      }
    },
    {
      "cell_type": "code",
      "source": [
        "# 데이터 정규화하기\n",
        "mean = train_data.mean(axis=0)\n",
        "train_data -= mean\n",
        "std = train_data.std(axis=0)\n",
        "train_data /= std\n",
        "\n",
        "test_data -= mean\n",
        "test_data /= std"
      ],
      "metadata": {
        "id": "-xY_ssiFggSi"
      },
      "execution_count": 2,
      "outputs": []
    },
    {
      "cell_type": "markdown",
      "source": [
        "### 모델 구성"
      ],
      "metadata": {
        "id": "BU-Csd8dg9zP"
      }
    },
    {
      "cell_type": "code",
      "source": [
        "from tensorflow.keras import models\n",
        "from tensorflow.keras import layers\n",
        "\n",
        "def build_model():\n",
        "    model = models.Sequential()\n",
        "    model.add(layers.Dense(64, activation = 'relu', input_shape = (train_data.shape[1],)))\n",
        "    model.add(layers.Dense(64, activation = 'relu'))\n",
        "    model.add(layers.Dense(1))\n",
        "    model.compile(optimizer = 'rmsprop', loss='mse', metrics = ['mae'])\n",
        "    return model\n",
        "    "
      ],
      "metadata": {
        "id": "QcsG5D6HhEAI"
      },
      "execution_count": 6,
      "outputs": []
    },
    {
      "cell_type": "markdown",
      "source": [
        "### K-fold cross-validaion"
      ],
      "metadata": {
        "id": "N79pxaMFhbh1"
      }
    },
    {
      "cell_type": "code",
      "source": [
        "import numpy as np\n",
        "num_val_samples = len(train_data) // k\n",
        "num_epochs = 100\n",
        "all_scroes = []\n",
        "for i in range(k):\n",
        "    print('fold # ', i)\n",
        "    val_data = train_data[i*num_val_samples: (i+1) * num_val_samples]\n",
        "    val_targets = train_targets[i*num_val_samples: (i+1) * num_val_samples]\n",
        "    partial_train_data = np.concatenate(\n",
        "        [train_data[:i*num_val_samples],\n",
        "         train_data[(i+1) * num_val_samples:]],\n",
        "         axis = 0\n",
        "    )\n",
        "    partial_train_targets = np.concatenate(\n",
        "        [train_targets[:i * num_val_samples],\n",
        "         train_targets[(i+1) * num_val_samples:]],\n",
        "         axis = 0\n",
        "    )\n",
        "    model = build_model()\n",
        "    model.fit(partial_train_data, partial_train_targets,\n",
        "              epochs = num_epochs, batch_size = 1, verbose = 0)\n",
        "    val_mse, val_mae = model.evaluate(val_data, val_targets, verbose = 0)\n",
        "    all_scores.append(val_mae)"
      ],
      "metadata": {
        "id": "aLlyQ1d4hv4z",
        "outputId": "44c2839c-9dfc-4852-d7ba-b370a0c53fe2",
        "colab": {
          "base_uri": "https://localhost:8080/"
        }
      },
      "execution_count": 7,
      "outputs": [
        {
          "output_type": "stream",
          "name": "stdout",
          "text": [
            "fold #  0\n",
            "fold #  1\n",
            "fold #  2\n",
            "fold #  3\n"
          ]
        }
      ]
    },
    {
      "cell_type": "code",
      "source": [
        " print(all_scores)\n",
        " print(np.mean(all_scores))\n",
        " # 평균값이 각각의 점수보다 훨씬 신뢰할 만하다."
      ],
      "metadata": {
        "id": "RxPtNpbNjKlg",
        "outputId": "ea1bb072-271f-4f0d-db05-64bd9a1a87af",
        "colab": {
          "base_uri": "https://localhost:8080/"
        }
      },
      "execution_count": 10,
      "outputs": [
        {
          "output_type": "stream",
          "name": "stdout",
          "text": [
            "[2.5165045261383057, 2.6947102546691895, 2.8203272819519043, 2.8480582237243652]\n",
            "2.719900071620941\n"
          ]
        }
      ]
    },
    {
      "cell_type": "code",
      "source": [
        "# 각 폴드에서 검증 점수를 log 에 저장하기.\n",
        "num_epochs = 500\n",
        "all_mae_histories = []\n",
        "for i in range(k):\n",
        "    print('fold # ', i)\n",
        "    val_data = train_data[i*num_val_samples: (i+1) * num_val_samples]\n",
        "    val_targets = train_targets[i*num_val_samples: (i+1) * num_val_samples]\n",
        "    partial_train_data = np.concatenate(\n",
        "        [train_data[:i*num_val_samples],\n",
        "         train_data[(i+1) * num_val_samples:]],\n",
        "         axis = 0\n",
        "    )\n",
        "    partial_train_targets = np.concatenate(\n",
        "        [train_targets[:i * num_val_samples],\n",
        "         train_targets[(i+1) * num_val_samples:]],\n",
        "         axis = 0\n",
        "    )\n",
        "    model = build_model()\n",
        "    history = model.fit(partial_train_data, partial_train_targets,\n",
        "              epochs = num_epochs, batch_size = 1, verbose = 0)\n",
        "    mae_history = history.history['val_mean_absolute_error']\n",
        "    all_mae_histories.append(mae_history)\n",
        "\n",
        "# 다음 모든 폴드에 대해 에포크의 mae 점수 평균을 계산.\n",
        "average_mae_history = [\n",
        "                       np.mean([x[i] for x in all_mae_histories]) for i in range(num_epochs)\n",
        "]\n",
        "\n",
        "# 검증 점수 그래프\n",
        "from matplotlib import pyplot as plt\n",
        "plt.plot(range(1, len(average_mae_history) + 1), average_mae_history)\n",
        "plt.xlabel('Epochs')\n",
        "plt.ylabel['Validation MAE']\n",
        "plt.show()\n"
      ],
      "metadata": {
        "id": "skb6ClD0-wl0"
      },
      "execution_count": null,
      "outputs": []
    },
    {
      "cell_type": "markdown",
      "source": [
        "    * 그래프는 범위가 크고 변동이 심해 보기가 어려움\n",
        "        1. 곡선의 다른 부분과 스케일이 많이 다른 첫 10개의 데이터 포인트를 제외\n",
        "        2. 부드러운 곡선을 얻기 위해 각 포인트를 이전 포인트의 지수 이동 평균으로 대체"
      ],
      "metadata": {
        "id": "T5YNL90q_NXm"
      }
    },
    {
      "cell_type": "code",
      "source": [
        "def smooth_curve(points, factor = 0.9):\n",
        "    smoothed_points = []\n",
        "    for point in points:\n",
        "        if smoothed_points:\n",
        "            previous = smoothed_points[-1]\n",
        "            smoothed_points.append(previous * factor + point * (1 - factor))\n",
        "        else:\n",
        "            smoothed_points.append(point)\n",
        "    return smoothed_points\n",
        "\n",
        "smoooth_mae_history = smooth_curve(average_mae_history[:10])\n",
        "\n",
        "plt.plot(range(1, len(smooth_mae_history) + 1), smooth_mae_history)\n",
        "plt.xlabel('Epochs')\n",
        "plt.ylabel('Validation MAE')\n",
        "plt.show()\n",
        "\n",
        "# 검증 MAE 가 80 번째 에포크 이후에 줄어드는 것이 멈춤. 이 지점 이후로는 과대적합.\n",
        "# 모델의 여러 매개변수에 대한 튜닝이 끝나면 에포크 수 뿐 아니라 은닉 층의 크기도 조절. \n",
        "# 모든 훈련 데이터를 사용하고 최상의 매개변수로 최종 실전에 투입될 모델을 훈련."
      ],
      "metadata": {
        "id": "byOK1gFH_1ix"
      },
      "execution_count": null,
      "outputs": []
    },
    {
      "cell_type": "code",
      "source": [
        "# 최종 모델 훈련\n",
        "model = build_model()\n",
        "model.fit(train_data, train_targets,\n",
        "          epochs = 80, batch_size = 16, verbose =0)\n",
        "test_mse_score, test_mae_score = model.evluate(test_data, test_targets)\n",
        "\n",
        "# 최종 결과\n",
        "test_mae_score"
      ],
      "metadata": {
        "id": "DRZhbibHAkTZ"
      },
      "execution_count": null,
      "outputs": []
    },
    {
      "cell_type": "markdown",
      "source": [
        "### 정리\n",
        "    1. 회귀는 분류에서 사용한 것과는 다른 손실함수를 사용함. ( 평균 제곱 오자 MSE 는 회귀에서 자주 사용 )\n",
        "    2. 비슷하게 회귀에서 사용되는 평가 지표는 분류와 다름\n",
        "    3. 입력 데이터의 특성이 서로 다른 범위를 가지면 전처리 단계에서 각 특성을 개별적으로 스케일 조정해야함.\n",
        "    4. 가용한 데이터가 적다면 k-fold 검증을 사용하는 것이 신뢰할 수 있는 모델 평가 방법.\n",
        "    5. 가용한 훈련 데이터가 적다면 과대적합을 피하기 위해 은닉 층의 수를 줄인 모델이 좋음."
      ],
      "metadata": {
        "id": "FJdIaPyiA4hS"
      }
    },
    {
      "cell_type": "markdown",
      "source": [
        "# 요약\n",
        "    1. 벡터 데이터를 사용하여 가장 일반적인 이진분류, 다중분류, 스칼라 회귀 작업을 다룸.\n",
        "    2. 원본 데이터를 신경망에 주입하기 전에 전처리\n",
        "    3. 데이터에 범위가 다른 특성이 있다면 전처리 단계에서 각 특성을 독립적으로 스케일 조정\n",
        "    4. 훈련이 진행됨에 따라 신경망의 과대적합이 시작되고 새로운 데이터에 대해 나쁜 결과를 얻음\n",
        "    5. 훈련 데이터가 많지 않으면 과대적합을 피하기 위해 1개 또는 2개의 은닉 층을 가진 신경망을 사용\n",
        "    6. 데이터가 많은 범주로 나뉘어 있을 때 중간층이 너무 작으면 정보의 병목이 생김\n",
        "    7. 회귀는 분류와 다른 손실 함수와 평가 지표를 사용\n",
        "    8. 적은 데이터를 사용할 때는 k-fold 검증이 신뢰도를 높임"
      ],
      "metadata": {
        "id": "lUuCSskOBN0z"
      }
    },
    {
      "cell_type": "code",
      "source": [
        ""
      ],
      "metadata": {
        "id": "it0L8svQBm9L"
      },
      "execution_count": null,
      "outputs": []
    }
  ],
  "metadata": {
    "interpreter": {
      "hash": "78281253531099ec7470c206bcd20af879423e7148a9fc4c36021ac82a01117f"
    },
    "kernelspec": {
      "display_name": "Python 3.9.12 ('workspace')",
      "language": "python",
      "name": "python3"
    },
    "language_info": {
      "codemirror_mode": {
        "name": "ipython",
        "version": 3
      },
      "file_extension": ".py",
      "mimetype": "text/x-python",
      "name": "python",
      "nbconvert_exporter": "python",
      "pygments_lexer": "ipython3",
      "version": "3.9.12"
    },
    "orig_nbformat": 4,
    "colab": {
      "name": "keras03.ipynb",
      "provenance": [],
      "collapsed_sections": [],
      "machine_shape": "hm",
      "include_colab_link": true
    },
    "accelerator": "GPU"
  },
  "nbformat": 4,
  "nbformat_minor": 0
}